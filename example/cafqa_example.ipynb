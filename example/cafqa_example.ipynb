{
 "cells": [
  {
   "cell_type": "code",
   "execution_count": 1,
   "metadata": {},
   "outputs": [],
   "source": [
    "import sys\n",
    "sys.path.append(\"../\")\n",
    "import os\n",
    "import vqe_experiment as ve\n",
    "import numpy as np"
   ]
  },
  {
   "cell_type": "code",
   "execution_count": null,
   "metadata": {},
   "outputs": [],
   "source": []
  },
  {
   "cell_type": "code",
   "execution_count": 2,
   "metadata": {},
   "outputs": [],
   "source": [
    "# define Hamiltonian: list of coefficients, list of Paulis, initial bitstring\n",
    "\n",
    "# here: molecular Hamiltonian, parity mapping, two-qubit reduction\n",
    "atom_string = \"Li 0 0 0; H 0 0 2.0\"              # PySCF atom string\n",
    "num_orbitals = 3                                 # number of spatial orbitals\n",
    "coeffs, paulis, HF_bitstring = ve.molecule(atom_string, new_num_orbitals=num_orbitals)"
   ]
  },
  {
   "cell_type": "code",
   "execution_count": 3,
   "metadata": {},
   "outputs": [
    {
     "data": {
      "text/plain": [
       "(array([-5.59396305e+00,  1.61387904e+00, -1.72701988e-02,  1.72701988e-02,\n",
       "        -3.86183811e-02, -3.86183811e-02,  3.90387222e-01, -1.13923657e-02,\n",
       "         1.13923657e-02,  2.52944297e-01,  1.61387904e+00, -1.72701988e-02,\n",
       "         1.72701988e-02, -3.86183811e-02, -3.86183811e-02,  3.90387222e-01,\n",
       "        -1.13923657e-02,  1.13923657e-02,  2.52944297e-01,  4.14787999e-01,\n",
       "        -2.50295510e-02,  2.50295510e-02, -3.52792774e-02, -3.52792774e-02,\n",
       "         8.14827873e-02,  5.87484994e-03, -5.87484994e-03,  9.81927154e-02,\n",
       "        -2.50295510e-02,  2.50295510e-02,  2.63398182e-03, -2.63398182e-03,\n",
       "        -2.63398182e-03,  2.63398182e-03,  2.65122860e-03,  2.65122860e-03,\n",
       "        -2.65122860e-03, -2.65122860e-03,  8.55526893e-04, -8.55526893e-04,\n",
       "        -6.66607492e-04,  6.66607492e-04,  6.66607492e-04, -6.66607492e-04,\n",
       "        -2.31745007e-03,  2.31745007e-03, -3.52792774e-02, -3.52792774e-02,\n",
       "         2.65122860e-03, -2.65122860e-03,  2.65122860e-03, -2.65122860e-03,\n",
       "         5.49722197e-03,  5.49722197e-03,  5.49722197e-03,  5.49722197e-03,\n",
       "        -3.05064421e-03, -3.05064421e-03, -2.42624732e-05,  2.42624732e-05,\n",
       "        -2.42624732e-05,  2.42624732e-05,  2.88459294e-04,  2.88459294e-04,\n",
       "         8.14827873e-02,  8.55526893e-04, -8.55526893e-04, -3.05064421e-03,\n",
       "        -3.05064421e-03,  1.15069387e-01, -1.40797741e-02,  1.40797741e-02,\n",
       "         5.37088735e-02,  5.87484994e-03, -5.87484994e-03, -6.66607492e-04,\n",
       "         6.66607492e-04,  6.66607492e-04, -6.66607492e-04, -2.42624732e-05,\n",
       "        -2.42624732e-05,  2.42624732e-05,  2.42624732e-05, -1.40797741e-02,\n",
       "         1.40797741e-02,  4.65515679e-03, -4.65515679e-03, -4.65515679e-03,\n",
       "         4.65515679e-03,  3.18743063e-03, -3.18743063e-03,  9.81927154e-02,\n",
       "        -2.31745007e-03,  2.31745007e-03,  2.88459294e-04,  2.88459294e-04,\n",
       "         5.37088735e-02,  3.18743063e-03, -3.18743063e-03,  8.29157930e-02,\n",
       "         7.93765816e-01]),\n",
       " array(['IIII', 'ZIII', 'XZII', 'XIII', 'XXII', 'YYII', 'ZZII', 'ZXII',\n",
       "        'IXII', 'IZII', 'IIZI', 'IIXZ', 'IIXI', 'IIXX', 'IIYY', 'IIZZ',\n",
       "        'IIZX', 'IIIX', 'IIIZ', 'ZIZI', 'ZIXZ', 'ZIXI', 'ZIXX', 'ZIYY',\n",
       "        'ZIZZ', 'ZIZX', 'ZIIX', 'ZIIZ', 'XZZI', 'XIZI', 'XZXZ', 'XZXI',\n",
       "        'XIXZ', 'XIXI', 'XZXX', 'XZYY', 'XIXX', 'XIYY', 'XZZZ', 'XIZZ',\n",
       "        'XZZX', 'XZIX', 'XIZX', 'XIIX', 'XZIZ', 'XIIZ', 'XXZI', 'YYZI',\n",
       "        'XXXZ', 'XXXI', 'YYXZ', 'YYXI', 'XXXX', 'XXYY', 'YYXX', 'YYYY',\n",
       "        'XXZZ', 'YYZZ', 'XXZX', 'XXIX', 'YYZX', 'YYIX', 'XXIZ', 'YYIZ',\n",
       "        'ZZZI', 'ZZXZ', 'ZZXI', 'ZZXX', 'ZZYY', 'ZZZZ', 'ZZZX', 'ZZIX',\n",
       "        'ZZIZ', 'ZXZI', 'IXZI', 'ZXXZ', 'ZXXI', 'IXXZ', 'IXXI', 'ZXXX',\n",
       "        'ZXYY', 'IXXX', 'IXYY', 'ZXZZ', 'IXZZ', 'ZXZX', 'ZXIX', 'IXZX',\n",
       "        'IXIX', 'ZXIZ', 'IXIZ', 'IZZI', 'IZXZ', 'IZXI', 'IZXX', 'IZYY',\n",
       "        'IZZZ', 'IZZX', 'IZIX', 'IZIZ', 'IIII'], dtype='<U4'),\n",
       " '1010')"
      ]
     },
     "execution_count": 3,
     "metadata": {},
     "output_type": "execute_result"
    }
   ],
   "source": [
    "coeffs, paulis, HF_bitstring"
   ]
  },
  {
   "cell_type": "code",
   "execution_count": null,
   "metadata": {},
   "outputs": [],
   "source": []
  },
  {
   "cell_type": "code",
   "execution_count": 4,
   "metadata": {},
   "outputs": [],
   "source": [
    "# number of qubits\n",
    "N = len(paulis[0])"
   ]
  },
  {
   "cell_type": "code",
   "execution_count": null,
   "metadata": {},
   "outputs": [],
   "source": []
  },
  {
   "cell_type": "code",
   "execution_count": 5,
   "metadata": {},
   "outputs": [],
   "source": [
    "# configure underlying VQE structure, passed as keyword argument dictionary\n",
    "\n",
    "# a function which returns a parameterized Qiskit circuit (ansatz) and the number of parameters\n",
    "ansatz_func = ve.efficientsu2_full\n",
    "ansatz_reps = 1\n",
    "# if True, the initial HF_bitstring will be appended after ansatz (layer of X gates where there are 1s)\n",
    "# if False, HF_bitstring will be initialized before ansatz\n",
    "init_last = False\n",
    "\n",
    "vqe_kwargs = {\n",
    "    \"ansatz_func\": ansatz_func,\n",
    "    \"ansatz_reps\": ansatz_reps,\n",
    "    \"init_last\": init_last,\n",
    "    \"HF_bitstring\": HF_bitstring\n",
    "}"
   ]
  },
  {
   "cell_type": "code",
   "execution_count": 6,
   "metadata": {},
   "outputs": [
    {
     "name": "stdout",
     "output_type": "stream",
     "text": [
      "16\n"
     ]
    }
   ],
   "source": [
    "ansatz, num_params = ansatz_func(N, ansatz_reps)\n",
    "print(num_params)"
   ]
  },
  {
   "cell_type": "code",
   "execution_count": 7,
   "metadata": {},
   "outputs": [
    {
     "data": {
      "text/html": [
       "<pre style=\"word-wrap: normal;white-space: pre;background: #fff0;line-height: 1.1;font-family: &quot;Courier New&quot;,Courier,monospace\">     ┌──────────┐┌──────────┐ ░                                ░  ┌──────────┐┌───────────┐\n",
       "q_0: ┤ Ry(θ[0]) ├┤ Rz(θ[4]) ├─░───■────■────■──────────────────░──┤ Ry(θ[8]) ├┤ Rz(θ[12]) ├\n",
       "     ├──────────┤├──────────┤ ░ ┌─┴─┐  │    │                  ░  ├──────────┤├───────────┤\n",
       "q_1: ┤ Ry(θ[1]) ├┤ Rz(θ[5]) ├─░─┤ X ├──┼────┼────■────■────────░──┤ Ry(θ[9]) ├┤ Rz(θ[13]) ├\n",
       "     ├──────────┤├──────────┤ ░ └───┘┌─┴─┐  │  ┌─┴─┐  │        ░ ┌┴──────────┤├───────────┤\n",
       "q_2: ┤ Ry(θ[2]) ├┤ Rz(θ[6]) ├─░──────┤ X ├──┼──┤ X ├──┼────■───░─┤ Ry(θ[10]) ├┤ Rz(θ[14]) ├\n",
       "     ├──────────┤├──────────┤ ░      └───┘┌─┴─┐└───┘┌─┴─┐┌─┴─┐ ░ ├───────────┤├───────────┤\n",
       "q_3: ┤ Ry(θ[3]) ├┤ Rz(θ[7]) ├─░───────────┤ X ├─────┤ X ├┤ X ├─░─┤ Ry(θ[11]) ├┤ Rz(θ[15]) ├\n",
       "     └──────────┘└──────────┘ ░           └───┘     └───┘└───┘ ░ └───────────┘└───────────┘</pre>"
      ],
      "text/plain": [
       "     ┌──────────┐┌──────────┐ ░                                ░  ┌──────────┐┌───────────┐\n",
       "q_0: ┤ Ry(θ[0]) ├┤ Rz(θ[4]) ├─░───■────■────■──────────────────░──┤ Ry(θ[8]) ├┤ Rz(θ[12]) ├\n",
       "     ├──────────┤├──────────┤ ░ ┌─┴─┐  │    │                  ░  ├──────────┤├───────────┤\n",
       "q_1: ┤ Ry(θ[1]) ├┤ Rz(θ[5]) ├─░─┤ X ├──┼────┼────■────■────────░──┤ Ry(θ[9]) ├┤ Rz(θ[13]) ├\n",
       "     ├──────────┤├──────────┤ ░ └───┘┌─┴─┐  │  ┌─┴─┐  │        ░ ┌┴──────────┤├───────────┤\n",
       "q_2: ┤ Ry(θ[2]) ├┤ Rz(θ[6]) ├─░──────┤ X ├──┼──┤ X ├──┼────■───░─┤ Ry(θ[10]) ├┤ Rz(θ[14]) ├\n",
       "     ├──────────┤├──────────┤ ░      └───┘┌─┴─┐└───┘┌─┴─┐┌─┴─┐ ░ ├───────────┤├───────────┤\n",
       "q_3: ┤ Ry(θ[3]) ├┤ Rz(θ[7]) ├─░───────────┤ X ├─────┤ X ├┤ X ├─░─┤ Ry(θ[11]) ├┤ Rz(θ[15]) ├\n",
       "     └──────────┘└──────────┘ ░           └───┘     └───┘└───┘ ░ └───────────┘└───────────┘"
      ]
     },
     "execution_count": 7,
     "metadata": {},
     "output_type": "execute_result"
    }
   ],
   "source": [
    "ansatz.draw(fold=-1)"
   ]
  },
  {
   "cell_type": "code",
   "execution_count": null,
   "metadata": {},
   "outputs": [],
   "source": []
  },
  {
   "cell_type": "markdown",
   "metadata": {},
   "source": [
    "CAFQA parameters are represented by a list $[x_0, x_1, x_2, ...]$ where $x_i$ parametrizes the $i$-th gate in the ansatz and can only take the discrete values $\\{0,1,2,3\\}$. Typically the parameterized gates are rotation gates, $R_y$ or $R_z$, so that $x_i$ corresponds to a rotation angle $x_i \\cdot \\pi/2$."
   ]
  },
  {
   "cell_type": "code",
   "execution_count": 8,
   "metadata": {},
   "outputs": [
    {
     "data": {
      "text/plain": [
       "[2, 2, 1, 3, 3, 1, 1, 1, 3, 0, 1, 2, 0, 0, 2, 3]"
      ]
     },
     "execution_count": 8,
     "metadata": {},
     "output_type": "execute_result"
    }
   ],
   "source": [
    "# configure algorithm\n",
    "\n",
    "budget = 100                                                 # number of iterations\n",
    "guess = list(map(int, np.random.randint(0, 4, num_params)))  # initial param guess\n",
    "guess"
   ]
  },
  {
   "cell_type": "code",
   "execution_count": 9,
   "metadata": {},
   "outputs": [],
   "source": [
    "# get VQE circuit guess parameters (* pi/2)\n",
    "qc = ve.vqe_circuit(\n",
    "    N, \n",
    "    np.array(guess)*np.pi/2, \n",
    "    paulis, \n",
    "    ansatz_func=ansatz_func, \n",
    "    ansatz_reps=ansatz_reps, \n",
    "    init_last=init_last,\n",
    "    HF_bitstring=HF_bitstring\n",
    "    )"
   ]
  },
  {
   "cell_type": "code",
   "execution_count": 10,
   "metadata": {},
   "outputs": [
    {
     "data": {
      "text/html": [
       "<pre style=\"word-wrap: normal;white-space: pre;background: #fff0;line-height: 1.1;font-family: &quot;Courier New&quot;,Courier,monospace\">         ┌───┐     ┌───────┐ ┌──────────┐ ░                                ░ ┌──────────┐ ┌───────┐  \n",
       "q1_0: ───┤ X ├─────┤ Ry(π) ├─┤ Rz(3π/2) ├─░───■────■────■──────────────────░─┤ Ry(3π/2) ├─┤ Rz(0) ├──\n",
       "       ┌─┴───┴─┐  ┌┴───────┴┐└──────────┘ ░ ┌─┴─┐  │    │                  ░ └┬───────┬─┘ ├───────┤  \n",
       "q1_1: ─┤ Ry(π) ├──┤ Rz(π/2) ├─────────────░─┤ X ├──┼────┼────■────■────────░──┤ Ry(0) ├───┤ Rz(0) ├──\n",
       "       └─┬───┬─┘  ├─────────┤┌─────────┐  ░ └───┘┌─┴─┐  │  ┌─┴─┐  │        ░ ┌┴───────┴┐  ├───────┤  \n",
       "q1_2: ───┤ X ├────┤ Ry(π/2) ├┤ Rz(π/2) ├──░──────┤ X ├──┼──┤ X ├──┼────■───░─┤ Ry(π/2) ├──┤ Rz(π) ├──\n",
       "      ┌──┴───┴───┐├─────────┤└─────────┘  ░      └───┘┌─┴─┐└───┘┌─┴─┐┌─┴─┐ ░ └┬───────┬┘ ┌┴───────┴─┐\n",
       "q1_3: ┤ Ry(3π/2) ├┤ Rz(π/2) ├─────────────░───────────┤ X ├─────┤ X ├┤ X ├─░──┤ Ry(π) ├──┤ Rz(3π/2) ├\n",
       "      └──────────┘└─────────┘             ░           └───┘     └───┘└───┘ ░  └───────┘  └──────────┘\n",
       "c0: 4/═══════════════════════════════════════════════════════════════════════════════════════════════\n",
       "                                                                                                     </pre>"
      ],
      "text/plain": [
       "         ┌───┐     ┌───────┐ ┌──────────┐ ░                                ░ ┌──────────┐ ┌───────┐  \n",
       "q1_0: ───┤ X ├─────┤ Ry(π) ├─┤ Rz(3π/2) ├─░───■────■────■──────────────────░─┤ Ry(3π/2) ├─┤ Rz(0) ├──\n",
       "       ┌─┴───┴─┐  ┌┴───────┴┐└──────────┘ ░ ┌─┴─┐  │    │                  ░ └┬───────┬─┘ ├───────┤  \n",
       "q1_1: ─┤ Ry(π) ├──┤ Rz(π/2) ├─────────────░─┤ X ├──┼────┼────■────■────────░──┤ Ry(0) ├───┤ Rz(0) ├──\n",
       "       └─┬───┬─┘  ├─────────┤┌─────────┐  ░ └───┘┌─┴─┐  │  ┌─┴─┐  │        ░ ┌┴───────┴┐  ├───────┤  \n",
       "q1_2: ───┤ X ├────┤ Ry(π/2) ├┤ Rz(π/2) ├──░──────┤ X ├──┼──┤ X ├──┼────■───░─┤ Ry(π/2) ├──┤ Rz(π) ├──\n",
       "      ┌──┴───┴───┐├─────────┤└─────────┘  ░      └───┘┌─┴─┐└───┘┌─┴─┐┌─┴─┐ ░ └┬───────┬┘ ┌┴───────┴─┐\n",
       "q1_3: ┤ Ry(3π/2) ├┤ Rz(π/2) ├─────────────░───────────┤ X ├─────┤ X ├┤ X ├─░──┤ Ry(π) ├──┤ Rz(3π/2) ├\n",
       "      └──────────┘└─────────┘             ░           └───┘     └───┘└───┘ ░  └───────┘  └──────────┘\n",
       "c0: 4/═══════════════════════════════════════════════════════════════════════════════════════════════\n",
       "                                                                                                     "
      ]
     },
     "execution_count": 10,
     "metadata": {},
     "output_type": "execute_result"
    }
   ],
   "source": [
    "qc.draw(fold=-1)"
   ]
  },
  {
   "cell_type": "code",
   "execution_count": 11,
   "metadata": {},
   "outputs": [],
   "source": [
    "# configure output\n",
    "\n",
    "save_dir = \"cafqa_example_out/\"\n",
    "os.system(f\"mkdir -p {save_dir}\")\n",
    "# the output files are relative to save_dir\n",
    "result_file = \"result.txt\"\n",
    "loss_file = \"cafqa_loss.txt\"\n",
    "params_file = \"cafqa_params.txt\""
   ]
  },
  {
   "cell_type": "code",
   "execution_count": 12,
   "metadata": {},
   "outputs": [
    {
     "name": "stdout",
     "output_type": "stream",
     "text": [
      "Design of experiment phase, number of new doe samples = 100 .......\n"
     ]
    },
    {
     "ename": "AttributeError",
     "evalue": "'Qubit' object has no attribute 'index'",
     "output_type": "error",
     "traceback": [
      "\u001b[0;31m---------------------------------------------------------------------------\u001b[0m",
      "\u001b[0;31mAttributeError\u001b[0m                            Traceback (most recent call last)",
      "Cell \u001b[0;32mIn[12], line 6\u001b[0m\n\u001b[1;32m      1\u001b[0m \u001b[38;5;66;03m# run CAFQA\u001b[39;00m\n\u001b[1;32m      2\u001b[0m \n\u001b[1;32m      3\u001b[0m \u001b[38;5;66;03m# hypermapper changes the standard output to write to log files, so it needs to be\u001b[39;00m\n\u001b[1;32m      4\u001b[0m \u001b[38;5;66;03m# changed back after CAFQA (otherwise printing breaks)\u001b[39;00m\n\u001b[1;32m      5\u001b[0m stdout \u001b[38;5;241m=\u001b[39m sys\u001b[38;5;241m.\u001b[39mstdout\n\u001b[0;32m----> 6\u001b[0m cafqa_energy, cafqa_params \u001b[38;5;241m=\u001b[39m \u001b[43mve\u001b[49m\u001b[38;5;241;43m.\u001b[39;49m\u001b[43mrun_cafqa\u001b[49m\u001b[43m(\u001b[49m\n\u001b[1;32m      7\u001b[0m \u001b[43m    \u001b[49m\u001b[43mn_qubits\u001b[49m\u001b[38;5;241;43m=\u001b[39;49m\u001b[43mN\u001b[49m\u001b[43m,\u001b[49m\n\u001b[1;32m      8\u001b[0m \u001b[43m    \u001b[49m\u001b[43mcoeffs\u001b[49m\u001b[38;5;241;43m=\u001b[39;49m\u001b[43mcoeffs\u001b[49m\u001b[43m,\u001b[49m\n\u001b[1;32m      9\u001b[0m \u001b[43m    \u001b[49m\u001b[43mpaulis\u001b[49m\u001b[38;5;241;43m=\u001b[39;49m\u001b[43mpaulis\u001b[49m\u001b[43m,\u001b[49m\n\u001b[1;32m     10\u001b[0m \u001b[43m    \u001b[49m\u001b[43mparam_guess\u001b[49m\u001b[38;5;241;43m=\u001b[39;49m\u001b[38;5;28;43mlist\u001b[39;49m\u001b[43m(\u001b[49m\u001b[43mguess\u001b[49m\u001b[43m)\u001b[49m\u001b[43m,\u001b[49m\n\u001b[1;32m     11\u001b[0m \u001b[43m    \u001b[49m\u001b[43mbudget\u001b[49m\u001b[38;5;241;43m=\u001b[39;49m\u001b[43mbudget\u001b[49m\u001b[43m,\u001b[49m\n\u001b[1;32m     12\u001b[0m \u001b[43m    \u001b[49m\u001b[43msave_dir\u001b[49m\u001b[38;5;241;43m=\u001b[39;49m\u001b[43msave_dir\u001b[49m\u001b[43m,\u001b[49m\n\u001b[1;32m     13\u001b[0m \u001b[43m    \u001b[49m\u001b[43mloss_file\u001b[49m\u001b[38;5;241;43m=\u001b[39;49m\u001b[43mloss_file\u001b[49m\u001b[43m,\u001b[49m\n\u001b[1;32m     14\u001b[0m \u001b[43m    \u001b[49m\u001b[43mparams_file\u001b[49m\u001b[38;5;241;43m=\u001b[39;49m\u001b[43mparams_file\u001b[49m\u001b[43m,\u001b[49m\n\u001b[1;32m     15\u001b[0m \u001b[43m    \u001b[49m\u001b[43mvqe_kwargs\u001b[49m\u001b[38;5;241;43m=\u001b[39;49m\u001b[43mvqe_kwargs\u001b[49m\n\u001b[1;32m     16\u001b[0m \u001b[43m)\u001b[49m\n\u001b[1;32m     17\u001b[0m sys\u001b[38;5;241m.\u001b[39mstdout \u001b[38;5;241m=\u001b[39m stdout\n",
      "File \u001b[0;32m~/my-code/CAFQA/example/../vqe_experiment.py:217\u001b[0m, in \u001b[0;36mrun_cafqa\u001b[0;34m(n_qubits, coeffs, paulis, param_guess, budget, save_dir, loss_file, params_file, vqe_kwargs)\u001b[0m\n\u001b[1;32m    214\u001b[0m     json\u001b[38;5;241m.\u001b[39mdump(config, config_file, indent\u001b[38;5;241m=\u001b[39m\u001b[38;5;241m4\u001b[39m)\n\u001b[1;32m    216\u001b[0m stdout \u001b[38;5;241m=\u001b[39m sys\u001b[38;5;241m.\u001b[39mstdout\n\u001b[0;32m--> 217\u001b[0m \u001b[43mhypermapper\u001b[49m\u001b[38;5;241;43m.\u001b[39;49m\u001b[43moptimizer\u001b[49m\u001b[38;5;241;43m.\u001b[39;49m\u001b[43moptimize\u001b[49m\u001b[43m(\u001b[49m\n\u001b[1;32m    218\u001b[0m \u001b[43m    \u001b[49m\u001b[43mhypermapper_config_path\u001b[49m\u001b[43m,\u001b[49m\u001b[43m \u001b[49m\n\u001b[1;32m    219\u001b[0m \u001b[43m    \u001b[49m\u001b[38;5;28;43;01mlambda\u001b[39;49;00m\u001b[43m \u001b[49m\u001b[43mx\u001b[49m\u001b[43m:\u001b[49m\u001b[43m \u001b[49m\u001b[43mvqe_cafqa_stim\u001b[49m\u001b[43m(\u001b[49m\n\u001b[1;32m    220\u001b[0m \u001b[43m        \u001b[49m\u001b[43minputs\u001b[49m\u001b[38;5;241;43m=\u001b[39;49m\u001b[43mx\u001b[49m\u001b[43m,\u001b[49m\n\u001b[1;32m    221\u001b[0m \u001b[43m        \u001b[49m\u001b[43mn_qubits\u001b[49m\u001b[38;5;241;43m=\u001b[39;49m\u001b[43mn_qubits\u001b[49m\u001b[43m,\u001b[49m\n\u001b[1;32m    222\u001b[0m \u001b[43m        \u001b[49m\u001b[43mloss_filename\u001b[49m\u001b[38;5;241;43m=\u001b[39;49m\u001b[43msave_dir\u001b[49m\u001b[43m \u001b[49m\u001b[38;5;241;43m+\u001b[39;49m\u001b[43m \u001b[49m\u001b[38;5;124;43m\"\u001b[39;49m\u001b[38;5;124;43m/\u001b[39;49m\u001b[38;5;124;43m\"\u001b[39;49m\u001b[43m \u001b[49m\u001b[38;5;241;43m+\u001b[39;49m\u001b[43m \u001b[49m\u001b[43mloss_file\u001b[49m\u001b[43m,\u001b[49m\n\u001b[1;32m    223\u001b[0m \u001b[43m        \u001b[49m\u001b[43mparams_filename\u001b[49m\u001b[38;5;241;43m=\u001b[39;49m\u001b[43msave_dir\u001b[49m\u001b[43m \u001b[49m\u001b[38;5;241;43m+\u001b[39;49m\u001b[43m \u001b[49m\u001b[38;5;124;43m\"\u001b[39;49m\u001b[38;5;124;43m/\u001b[39;49m\u001b[38;5;124;43m\"\u001b[39;49m\u001b[43m \u001b[49m\u001b[38;5;241;43m+\u001b[39;49m\u001b[43m \u001b[49m\u001b[43mparams_file\u001b[49m\u001b[43m,\u001b[49m\n\u001b[1;32m    224\u001b[0m \u001b[43m        \u001b[49m\u001b[43mpaulis\u001b[49m\u001b[38;5;241;43m=\u001b[39;49m\u001b[43mpaulis\u001b[49m\u001b[43m,\u001b[49m\u001b[43m \u001b[49m\n\u001b[1;32m    225\u001b[0m \u001b[43m        \u001b[49m\u001b[43mcoeffs\u001b[49m\u001b[38;5;241;43m=\u001b[39;49m\u001b[43mcoeffs\u001b[49m\u001b[43m,\u001b[49m\n\u001b[1;32m    226\u001b[0m \u001b[43m        \u001b[49m\u001b[38;5;241;43m*\u001b[39;49m\u001b[38;5;241;43m*\u001b[39;49m\u001b[43mvqe_kwargs\u001b[49m\n\u001b[1;32m    227\u001b[0m \u001b[43m    \u001b[49m\u001b[43m)\u001b[49m\u001b[43m)\u001b[49m\n\u001b[1;32m    228\u001b[0m sys\u001b[38;5;241m.\u001b[39mstdout \u001b[38;5;241m=\u001b[39m stdout\n\u001b[1;32m    231\u001b[0m \u001b[38;5;66;03m# wire this up\u001b[39;00m\n\u001b[1;32m    232\u001b[0m \u001b[38;5;66;03m# with Session(backend=backend) as session:\u001b[39;00m\n\u001b[1;32m    233\u001b[0m \u001b[38;5;66;03m#     estimator = Estimator(session=session)\u001b[39;00m\n\u001b[0;32m   (...)\u001b[0m\n\u001b[1;32m    251\u001b[0m \u001b[38;5;66;03m#         callback=callback,\u001b[39;00m\n\u001b[1;32m    252\u001b[0m \u001b[38;5;66;03m#     )\u001b[39;00m\n",
      "File \u001b[0;32m/opt/miniconda3/envs/iqc_env/lib/python3.12/site-packages/hypermapper/optimizer.py:124\u001b[0m, in \u001b[0;36moptimize\u001b[0;34m(parameters_file, black_box_function)\u001b[0m\n\u001b[1;32m    117\u001b[0m     profiling \u001b[38;5;241m=\u001b[39m \u001b[38;5;28;01mNone\u001b[39;00m\n\u001b[1;32m    119\u001b[0m \u001b[38;5;28;01mif\u001b[39;00m (\n\u001b[1;32m    120\u001b[0m     (optimization_method \u001b[38;5;241m==\u001b[39m \u001b[38;5;124m\"\u001b[39m\u001b[38;5;124mrandom_scalarizations\u001b[39m\u001b[38;5;124m\"\u001b[39m)\n\u001b[1;32m    121\u001b[0m     \u001b[38;5;129;01mor\u001b[39;00m (optimization_method \u001b[38;5;241m==\u001b[39m \u001b[38;5;124m\"\u001b[39m\u001b[38;5;124mbayesian_optimization\u001b[39m\u001b[38;5;124m\"\u001b[39m)\n\u001b[1;32m    122\u001b[0m     \u001b[38;5;129;01mor\u001b[39;00m (optimization_method \u001b[38;5;241m==\u001b[39m \u001b[38;5;124m\"\u001b[39m\u001b[38;5;124mprior_guided_optimization\u001b[39m\u001b[38;5;124m\"\u001b[39m)\n\u001b[1;32m    123\u001b[0m ):\n\u001b[0;32m--> 124\u001b[0m     data_array \u001b[38;5;241m=\u001b[39m \u001b[43mbo\u001b[49m\u001b[38;5;241;43m.\u001b[39;49m\u001b[43mmain\u001b[49m\u001b[43m(\u001b[49m\n\u001b[1;32m    125\u001b[0m \u001b[43m        \u001b[49m\u001b[43mconfig\u001b[49m\u001b[43m,\u001b[49m\u001b[43m \u001b[49m\u001b[43mblack_box_function\u001b[49m\u001b[38;5;241;43m=\u001b[39;49m\u001b[43mblack_box_function\u001b[49m\u001b[43m,\u001b[49m\u001b[43m \u001b[49m\u001b[43mprofiling\u001b[49m\u001b[38;5;241;43m=\u001b[39;49m\u001b[43mprofiling\u001b[49m\n\u001b[1;32m    126\u001b[0m \u001b[43m    \u001b[49m\u001b[43m)\u001b[49m\n\u001b[1;32m    127\u001b[0m \u001b[38;5;28;01melif\u001b[39;00m optimization_method \u001b[38;5;241m==\u001b[39m \u001b[38;5;124m\"\u001b[39m\u001b[38;5;124mlocal_search\u001b[39m\u001b[38;5;124m\"\u001b[39m:\n\u001b[1;32m    128\u001b[0m     data_array \u001b[38;5;241m=\u001b[39m local_search\u001b[38;5;241m.\u001b[39mmain(\n\u001b[1;32m    129\u001b[0m         config, black_box_function\u001b[38;5;241m=\u001b[39mblack_box_function, profiling\u001b[38;5;241m=\u001b[39mprofiling\n\u001b[1;32m    130\u001b[0m     )\n",
      "File \u001b[0;32m/opt/miniconda3/envs/iqc_env/lib/python3.12/site-packages/hypermapper/bo.py:306\u001b[0m, in \u001b[0;36mmain\u001b[0;34m(config, black_box_function, profiling)\u001b[0m\n\u001b[1;32m    300\u001b[0m configurations \u001b[38;5;241m+\u001b[39m\u001b[38;5;241m=\u001b[39m doe_configurations\n\u001b[1;32m    301\u001b[0m \u001b[38;5;28mprint\u001b[39m(\n\u001b[1;32m    302\u001b[0m     \u001b[38;5;124m\"\u001b[39m\u001b[38;5;124mDesign of experiment phase, number of new doe samples = \u001b[39m\u001b[38;5;132;01m%d\u001b[39;00m\u001b[38;5;124m .......\u001b[39m\u001b[38;5;124m\"\u001b[39m\n\u001b[1;32m    303\u001b[0m     \u001b[38;5;241m%\u001b[39m \u001b[38;5;28mlen\u001b[39m(configurations)\n\u001b[1;32m    304\u001b[0m )\n\u001b[0;32m--> 306\u001b[0m doe_data_array \u001b[38;5;241m=\u001b[39m \u001b[43mparam_space\u001b[49m\u001b[38;5;241;43m.\u001b[39;49m\u001b[43mrun_configurations\u001b[49m\u001b[43m(\u001b[49m\n\u001b[1;32m    307\u001b[0m \u001b[43m    \u001b[49m\u001b[43mhypermapper_mode\u001b[49m\u001b[43m,\u001b[49m\n\u001b[1;32m    308\u001b[0m \u001b[43m    \u001b[49m\u001b[43mconfigurations\u001b[49m\u001b[43m,\u001b[49m\n\u001b[1;32m    309\u001b[0m \u001b[43m    \u001b[49m\u001b[43mbeginning_of_time\u001b[49m\u001b[43m,\u001b[49m\n\u001b[1;32m    310\u001b[0m \u001b[43m    \u001b[49m\u001b[43moutput_data_file\u001b[49m\u001b[43m,\u001b[49m\n\u001b[1;32m    311\u001b[0m \u001b[43m    \u001b[49m\u001b[43mblack_box_function\u001b[49m\u001b[43m,\u001b[49m\n\u001b[1;32m    312\u001b[0m \u001b[43m    \u001b[49m\u001b[43mexhaustive_search_data_array\u001b[49m\u001b[43m,\u001b[49m\n\u001b[1;32m    313\u001b[0m \u001b[43m    \u001b[49m\u001b[43mexhaustive_search_fast_addressing_of_data_array\u001b[49m\u001b[43m,\u001b[49m\n\u001b[1;32m    314\u001b[0m \u001b[43m    \u001b[49m\u001b[43mrun_directory\u001b[49m\u001b[43m,\u001b[49m\n\u001b[1;32m    315\u001b[0m \u001b[43m    \u001b[49m\u001b[43mbatch_mode\u001b[49m\u001b[38;5;241;43m=\u001b[39;49m\u001b[43mbatch_mode\u001b[49m\u001b[43m,\u001b[49m\n\u001b[1;32m    316\u001b[0m \u001b[43m\u001b[49m\u001b[43m)\u001b[49m\n\u001b[1;32m    317\u001b[0m data_array \u001b[38;5;241m=\u001b[39m concatenate_data_dictionaries(\n\u001b[1;32m    318\u001b[0m     data_array,\n\u001b[1;32m    319\u001b[0m     doe_data_array,\n\u001b[1;32m    320\u001b[0m     param_space\u001b[38;5;241m.\u001b[39minput_output_and_timestamp_parameter_names,\n\u001b[1;32m    321\u001b[0m )\n\u001b[1;32m    322\u001b[0m absolute_configuration_index \u001b[38;5;241m=\u001b[39m number_of_doe_samples\n",
      "File \u001b[0;32m/opt/miniconda3/envs/iqc_env/lib/python3.12/site-packages/hypermapper/space.py:2618\u001b[0m, in \u001b[0;36mSpace.run_configurations\u001b[0;34m(self, hypermapper_mode, configurations, beginning_of_time, output_data_file, black_box_function, exhaustive_search_data_array, exhaustive_search_fast_addressing_of_data_array, run_directory, number_of_cpus, batch_mode)\u001b[0m\n\u001b[1;32m   2616\u001b[0m         \u001b[38;5;28mprint\u001b[39m(\u001b[38;5;124m\"\u001b[39m\u001b[38;5;124mError: a black box function is required in default mode\u001b[39m\u001b[38;5;124m\"\u001b[39m)\n\u001b[1;32m   2617\u001b[0m         \u001b[38;5;28;01mraise\u001b[39;00m \u001b[38;5;167;01mSystemExit\u001b[39;00m\n\u001b[0;32m-> 2618\u001b[0m     data_array \u001b[38;5;241m=\u001b[39m \u001b[38;5;28;43mself\u001b[39;49m\u001b[38;5;241;43m.\u001b[39;49m\u001b[43m_run_configurations_with_black_box_function\u001b[49m\u001b[43m(\u001b[49m\n\u001b[1;32m   2619\u001b[0m \u001b[43m        \u001b[49m\u001b[43mconfigurations\u001b[49m\u001b[43m,\u001b[49m\n\u001b[1;32m   2620\u001b[0m \u001b[43m        \u001b[49m\u001b[43mblack_box_function\u001b[49m\u001b[43m,\u001b[49m\n\u001b[1;32m   2621\u001b[0m \u001b[43m        \u001b[49m\u001b[43mbeginning_of_time\u001b[49m\u001b[43m,\u001b[49m\n\u001b[1;32m   2622\u001b[0m \u001b[43m        \u001b[49m\u001b[43moutput_data_file\u001b[49m\u001b[43m,\u001b[49m\n\u001b[1;32m   2623\u001b[0m \u001b[43m        \u001b[49m\u001b[43mbatch_mode\u001b[49m\u001b[43m,\u001b[49m\n\u001b[1;32m   2624\u001b[0m \u001b[43m    \u001b[49m\u001b[43m)\u001b[49m\n\u001b[1;32m   2625\u001b[0m     \u001b[38;5;28mself\u001b[39m\u001b[38;5;241m.\u001b[39mprint_data_array(data_array)\n\u001b[1;32m   2626\u001b[0m \u001b[38;5;28;01melif\u001b[39;00m hypermapper_mode \u001b[38;5;241m==\u001b[39m \u001b[38;5;124m\"\u001b[39m\u001b[38;5;124mexhaustive\u001b[39m\u001b[38;5;124m\"\u001b[39m:\n",
      "File \u001b[0;32m/opt/miniconda3/envs/iqc_env/lib/python3.12/site-packages/hypermapper/space.py:2513\u001b[0m, in \u001b[0;36mSpace._run_configurations_with_black_box_function\u001b[0;34m(self, configurations, black_box_function, beginning_of_time, output_data_file, batch_mode)\u001b[0m\n\u001b[1;32m   2511\u001b[0m data_array \u001b[38;5;241m=\u001b[39m defaultdict(\u001b[38;5;28mlist\u001b[39m)\n\u001b[1;32m   2512\u001b[0m \u001b[38;5;28;01mfor\u001b[39;00m configuration \u001b[38;5;129;01min\u001b[39;00m configurations:\n\u001b[0;32m-> 2513\u001b[0m     tmp_data_array \u001b[38;5;241m=\u001b[39m \u001b[38;5;28;43mself\u001b[39;49m\u001b[38;5;241;43m.\u001b[39;49m\u001b[43mrun_configurations_with_black_box_function\u001b[49m\u001b[43m(\u001b[49m\n\u001b[1;32m   2514\u001b[0m \u001b[43m        \u001b[49m\u001b[43m[\u001b[49m\u001b[43mconfiguration\u001b[49m\u001b[43m]\u001b[49m\u001b[43m,\u001b[49m\u001b[43m \u001b[49m\u001b[43mblack_box_function\u001b[49m\u001b[43m,\u001b[49m\u001b[43m \u001b[49m\u001b[43mbeginning_of_time\u001b[49m\n\u001b[1;32m   2515\u001b[0m \u001b[43m    \u001b[49m\u001b[43m)\u001b[49m\n\u001b[1;32m   2516\u001b[0m     \u001b[38;5;28;01mfor\u001b[39;00m key \u001b[38;5;129;01min\u001b[39;00m tmp_data_array:\n\u001b[1;32m   2517\u001b[0m         data_array[key] \u001b[38;5;241m+\u001b[39m\u001b[38;5;241m=\u001b[39m tmp_data_array[key]\n",
      "File \u001b[0;32m/opt/miniconda3/envs/iqc_env/lib/python3.12/site-packages/hypermapper/space.py:2556\u001b[0m, in \u001b[0;36mSpace.run_configurations_with_black_box_function\u001b[0;34m(self, configurations, black_box_function, beginning_of_time)\u001b[0m\n\u001b[1;32m   2553\u001b[0m \u001b[38;5;28;01mif\u001b[39;00m \u001b[38;5;28mlen\u001b[39m(configurations) \u001b[38;5;241m==\u001b[39m \u001b[38;5;241m1\u001b[39m:\n\u001b[1;32m   2554\u001b[0m     tmp_configurations \u001b[38;5;241m=\u001b[39m tmp_configuration\n\u001b[0;32m-> 2556\u001b[0m objective_values \u001b[38;5;241m=\u001b[39m \u001b[43mblack_box_function\u001b[49m\u001b[43m(\u001b[49m\u001b[43mtmp_configurations\u001b[49m\u001b[43m)\u001b[49m\n\u001b[1;32m   2557\u001b[0m output_parameters \u001b[38;5;241m=\u001b[39m \u001b[38;5;28mself\u001b[39m\u001b[38;5;241m.\u001b[39mget_output_parameters()\n\u001b[1;32m   2559\u001b[0m \u001b[38;5;66;03m# if we have a single output_parameter, black-box return does not need to be a dictionary\u001b[39;00m\n\u001b[1;32m   2560\u001b[0m \u001b[38;5;66;03m# convert it so that we always have a dictionary\u001b[39;00m\n",
      "File \u001b[0;32m~/my-code/CAFQA/example/../vqe_experiment.py:219\u001b[0m, in \u001b[0;36mrun_cafqa.<locals>.<lambda>\u001b[0;34m(x)\u001b[0m\n\u001b[1;32m    214\u001b[0m     json\u001b[38;5;241m.\u001b[39mdump(config, config_file, indent\u001b[38;5;241m=\u001b[39m\u001b[38;5;241m4\u001b[39m)\n\u001b[1;32m    216\u001b[0m stdout \u001b[38;5;241m=\u001b[39m sys\u001b[38;5;241m.\u001b[39mstdout\n\u001b[1;32m    217\u001b[0m hypermapper\u001b[38;5;241m.\u001b[39moptimizer\u001b[38;5;241m.\u001b[39moptimize(\n\u001b[1;32m    218\u001b[0m     hypermapper_config_path, \n\u001b[0;32m--> 219\u001b[0m     \u001b[38;5;28;01mlambda\u001b[39;00m x: \u001b[43mvqe_cafqa_stim\u001b[49m\u001b[43m(\u001b[49m\n\u001b[1;32m    220\u001b[0m \u001b[43m        \u001b[49m\u001b[43minputs\u001b[49m\u001b[38;5;241;43m=\u001b[39;49m\u001b[43mx\u001b[49m\u001b[43m,\u001b[49m\n\u001b[1;32m    221\u001b[0m \u001b[43m        \u001b[49m\u001b[43mn_qubits\u001b[49m\u001b[38;5;241;43m=\u001b[39;49m\u001b[43mn_qubits\u001b[49m\u001b[43m,\u001b[49m\n\u001b[1;32m    222\u001b[0m \u001b[43m        \u001b[49m\u001b[43mloss_filename\u001b[49m\u001b[38;5;241;43m=\u001b[39;49m\u001b[43msave_dir\u001b[49m\u001b[43m \u001b[49m\u001b[38;5;241;43m+\u001b[39;49m\u001b[43m \u001b[49m\u001b[38;5;124;43m\"\u001b[39;49m\u001b[38;5;124;43m/\u001b[39;49m\u001b[38;5;124;43m\"\u001b[39;49m\u001b[43m \u001b[49m\u001b[38;5;241;43m+\u001b[39;49m\u001b[43m \u001b[49m\u001b[43mloss_file\u001b[49m\u001b[43m,\u001b[49m\n\u001b[1;32m    223\u001b[0m \u001b[43m        \u001b[49m\u001b[43mparams_filename\u001b[49m\u001b[38;5;241;43m=\u001b[39;49m\u001b[43msave_dir\u001b[49m\u001b[43m \u001b[49m\u001b[38;5;241;43m+\u001b[39;49m\u001b[43m \u001b[49m\u001b[38;5;124;43m\"\u001b[39;49m\u001b[38;5;124;43m/\u001b[39;49m\u001b[38;5;124;43m\"\u001b[39;49m\u001b[43m \u001b[49m\u001b[38;5;241;43m+\u001b[39;49m\u001b[43m \u001b[49m\u001b[43mparams_file\u001b[49m\u001b[43m,\u001b[49m\n\u001b[1;32m    224\u001b[0m \u001b[43m        \u001b[49m\u001b[43mpaulis\u001b[49m\u001b[38;5;241;43m=\u001b[39;49m\u001b[43mpaulis\u001b[49m\u001b[43m,\u001b[49m\u001b[43m \u001b[49m\n\u001b[1;32m    225\u001b[0m \u001b[43m        \u001b[49m\u001b[43mcoeffs\u001b[49m\u001b[38;5;241;43m=\u001b[39;49m\u001b[43mcoeffs\u001b[49m\u001b[43m,\u001b[49m\n\u001b[1;32m    226\u001b[0m \u001b[43m        \u001b[49m\u001b[38;5;241;43m*\u001b[39;49m\u001b[38;5;241;43m*\u001b[39;49m\u001b[43mvqe_kwargs\u001b[49m\n\u001b[1;32m    227\u001b[0m \u001b[43m    \u001b[49m\u001b[43m)\u001b[49m)\n\u001b[1;32m    228\u001b[0m sys\u001b[38;5;241m.\u001b[39mstdout \u001b[38;5;241m=\u001b[39m stdout\n\u001b[1;32m    231\u001b[0m \u001b[38;5;66;03m# wire this up\u001b[39;00m\n\u001b[1;32m    232\u001b[0m \u001b[38;5;66;03m# with Session(backend=backend) as session:\u001b[39;00m\n\u001b[1;32m    233\u001b[0m \u001b[38;5;66;03m#     estimator = Estimator(session=session)\u001b[39;00m\n\u001b[0;32m   (...)\u001b[0m\n\u001b[1;32m    251\u001b[0m \u001b[38;5;66;03m#         callback=callback,\u001b[39;00m\n\u001b[1;32m    252\u001b[0m \u001b[38;5;66;03m#     )\u001b[39;00m\n",
      "File \u001b[0;32m~/my-code/CAFQA/example/../vqe_helpers.py:295\u001b[0m, in \u001b[0;36mvqe_cafqa_stim\u001b[0;34m(inputs, n_qubits, coeffs, paulis, init_func, ansatz_func, ansatz_reps, init_last, loss_filename, params_filename, **kwargs)\u001b[0m\n\u001b[1;32m    293\u001b[0m     init_func(vqe_qc, \u001b[38;5;241m*\u001b[39m\u001b[38;5;241m*\u001b[39mkwargs)\n\u001b[1;32m    294\u001b[0m vqe_qc_trans \u001b[38;5;241m=\u001b[39m transform_to_allowed_gates(vqe_qc)\n\u001b[0;32m--> 295\u001b[0m stim_qc \u001b[38;5;241m=\u001b[39m \u001b[43mqiskit_to_stim\u001b[49m\u001b[43m(\u001b[49m\u001b[43mvqe_qc_trans\u001b[49m\u001b[43m)\u001b[49m\n\u001b[1;32m    296\u001b[0m sim \u001b[38;5;241m=\u001b[39m stim\u001b[38;5;241m.\u001b[39mTableauSimulator()\n\u001b[1;32m    297\u001b[0m sim\u001b[38;5;241m.\u001b[39mdo_circuit(stim_qc)\n",
      "File \u001b[0;32m~/my-code/CAFQA/example/../circuit_manipulation.py:94\u001b[0m, in \u001b[0;36mqiskit_to_stim\u001b[0;34m(circuit)\u001b[0m\n\u001b[1;32m     92\u001b[0m         gate_lbl \u001b[38;5;241m=\u001b[39m \u001b[38;5;124m\"\u001b[39m\u001b[38;5;124mSQRT_X_DAG\u001b[39m\u001b[38;5;124m\"\u001b[39m\n\u001b[1;32m     93\u001b[0m     \u001b[38;5;28;01massert\u001b[39;00m gate_lbl \u001b[38;5;129;01min\u001b[39;00m allowed_gates, \u001b[38;5;124mf\u001b[39m\u001b[38;5;124m\"\u001b[39m\u001b[38;5;124mInvalid gate \u001b[39m\u001b[38;5;132;01m{\u001b[39;00mgate_lbl\u001b[38;5;132;01m}\u001b[39;00m\u001b[38;5;124m.\u001b[39m\u001b[38;5;124m\"\u001b[39m\n\u001b[0;32m---> 94\u001b[0m     qubit_idc \u001b[38;5;241m=\u001b[39m [\u001b[43mqb\u001b[49m\u001b[38;5;241;43m.\u001b[39;49m\u001b[43mindex\u001b[49m \u001b[38;5;28;01mfor\u001b[39;00m qb \u001b[38;5;129;01min\u001b[39;00m instruction\u001b[38;5;241m.\u001b[39mqubits]\n\u001b[1;32m     95\u001b[0m     stim_circ\u001b[38;5;241m.\u001b[39mappend(gate_lbl, qubit_idc)\n\u001b[1;32m     96\u001b[0m \u001b[38;5;28;01mreturn\u001b[39;00m stim_circ\n",
      "\u001b[0;31mAttributeError\u001b[0m: 'Qubit' object has no attribute 'index'"
     ]
    }
   ],
   "source": [
    "# run CAFQA\n",
    "\n",
    "# hypermapper changes the standard output to write to log files, so it needs to be\n",
    "# changed back after CAFQA (otherwise printing breaks)\n",
    "stdout = sys.stdout\n",
    "cafqa_energy, cafqa_params = ve.run_cafqa(\n",
    "    n_qubits=N,\n",
    "    coeffs=coeffs,\n",
    "    paulis=paulis,\n",
    "    param_guess=list(guess),\n",
    "    budget=budget,\n",
    "    save_dir=save_dir,\n",
    "    loss_file=loss_file,\n",
    "    params_file=params_file,\n",
    "    vqe_kwargs=vqe_kwargs\n",
    ")\n",
    "sys.stdout = stdout"
   ]
  },
  {
   "cell_type": "code",
   "execution_count": null,
   "metadata": {},
   "outputs": [],
   "source": []
  }
 ],
 "metadata": {
  "kernelspec": {
   "display_name": "research",
   "language": "python",
   "name": "python3"
  },
  "language_info": {
   "codemirror_mode": {
    "name": "ipython",
    "version": 3
   },
   "file_extension": ".py",
   "mimetype": "text/x-python",
   "name": "python",
   "nbconvert_exporter": "python",
   "pygments_lexer": "ipython3",
   "version": "3.12.2"
  }
 },
 "nbformat": 4,
 "nbformat_minor": 2
}
