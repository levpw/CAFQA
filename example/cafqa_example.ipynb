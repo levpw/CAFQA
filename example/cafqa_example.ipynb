{
 "cells": [
  {
   "cell_type": "code",
   "execution_count": 1,
   "metadata": {},
   "outputs": [],
   "source": [
    "import sys\n",
    "sys.path.append(\"../\")\n",
    "import os\n",
    "import vqe_experiment as ve\n",
    "import numpy as np"
   ]
  },
  {
   "cell_type": "code",
   "execution_count": null,
   "metadata": {},
   "outputs": [],
   "source": []
  },
  {
   "cell_type": "code",
   "execution_count": 2,
   "metadata": {},
   "outputs": [],
   "source": [
    "# define Hamiltonian: list of coefficients, list of Paulis, initial bitstring\n",
    "\n",
    "# here: molecular Hamiltonian, parity mapping, two-qubit reduction\n",
    "atom_string = \"Li 0 0 0; H 0 0 2.0\"              # PySCF atom string\n",
    "num_orbitals = 3                                 # number of spatial orbitals\n",
    "coeffs, paulis, HF_bitstring = ve.molecule(atom_string, new_num_orbitals=num_orbitals)"
   ]
  },
  {
   "cell_type": "code",
   "execution_count": 4,
   "metadata": {},
   "outputs": [
    {
     "data": {
      "text/plain": [
       "(array([-5.59396305e+00,  1.61387904e+00,  3.90387222e-01,  2.52944297e-01,\n",
       "        -1.13923657e-02,  1.13923657e-02,  1.61387904e+00,  4.14787999e-01,\n",
       "        -1.72701988e-02, -2.50295510e-02,  1.72701988e-02,  2.50295510e-02,\n",
       "        -3.86183811e-02, -3.52792774e-02, -3.86183811e-02, -3.52792774e-02,\n",
       "         3.90387222e-01,  8.14827873e-02, -1.13923657e-02,  5.87484994e-03,\n",
       "         1.13923657e-02, -5.87484994e-03,  2.52944297e-01,  9.81927154e-02,\n",
       "        -3.86183811e-02, -3.86183811e-02, -1.72701988e-02,  1.72701988e-02,\n",
       "        -2.50295510e-02,  2.50295510e-02,  2.63398182e-03, -2.63398182e-03,\n",
       "        -2.63398182e-03,  2.63398182e-03,  2.65122860e-03,  2.65122860e-03,\n",
       "        -2.65122860e-03, -2.65122860e-03,  8.55526893e-04, -8.55526893e-04,\n",
       "        -6.66607492e-04,  6.66607492e-04,  6.66607492e-04, -6.66607492e-04,\n",
       "        -2.31745007e-03,  2.31745007e-03, -3.52792774e-02, -3.52792774e-02,\n",
       "         2.65122860e-03, -2.65122860e-03,  2.65122860e-03, -2.65122860e-03,\n",
       "         5.49722197e-03,  5.49722197e-03,  5.49722197e-03,  5.49722197e-03,\n",
       "        -3.05064421e-03, -3.05064421e-03, -2.42624732e-05,  2.42624732e-05,\n",
       "        -2.42624732e-05,  2.42624732e-05,  2.88459294e-04,  2.88459294e-04,\n",
       "         8.14827873e-02,  8.55526893e-04, -8.55526893e-04, -3.05064421e-03,\n",
       "        -3.05064421e-03,  1.15069387e-01, -1.40797741e-02,  1.40797741e-02,\n",
       "         5.37088735e-02,  5.87484994e-03, -5.87484994e-03, -6.66607492e-04,\n",
       "         6.66607492e-04,  6.66607492e-04, -6.66607492e-04, -2.42624732e-05,\n",
       "        -2.42624732e-05,  2.42624732e-05,  2.42624732e-05, -1.40797741e-02,\n",
       "         1.40797741e-02,  4.65515679e-03, -4.65515679e-03, -4.65515679e-03,\n",
       "         4.65515679e-03,  3.18743063e-03, -3.18743063e-03,  9.81927154e-02,\n",
       "        -2.31745007e-03,  2.31745007e-03,  2.88459294e-04,  2.88459294e-04,\n",
       "         5.37088735e-02,  3.18743063e-03, -3.18743063e-03,  8.29157930e-02,\n",
       "         7.93765816e-01]),\n",
       " array(['IIII', 'ZIII', 'ZZII', 'IZII', 'ZXII', 'IXII', 'IIZI', 'ZIZI',\n",
       "        'IIXZ', 'ZIXZ', 'IIXI', 'ZIXI', 'IIXX', 'ZIXX', 'IIYY', 'ZIYY',\n",
       "        'IIZZ', 'ZIZZ', 'IIZX', 'ZIZX', 'IIIX', 'ZIIX', 'IIIZ', 'ZIIZ',\n",
       "        'XXII', 'YYII', 'XZII', 'XIII', 'XZZI', 'XIZI', 'XZXZ', 'XZXI',\n",
       "        'XIXZ', 'XIXI', 'XZXX', 'XZYY', 'XIXX', 'XIYY', 'XZZZ', 'XIZZ',\n",
       "        'XZZX', 'XZIX', 'XIZX', 'XIIX', 'XZIZ', 'XIIZ', 'XXZI', 'YYZI',\n",
       "        'XXXZ', 'XXXI', 'YYXZ', 'YYXI', 'XXXX', 'XXYY', 'YYXX', 'YYYY',\n",
       "        'XXZZ', 'YYZZ', 'XXZX', 'XXIX', 'YYZX', 'YYIX', 'XXIZ', 'YYIZ',\n",
       "        'ZZZI', 'ZZXZ', 'ZZXI', 'ZZXX', 'ZZYY', 'ZZZZ', 'ZZZX', 'ZZIX',\n",
       "        'ZZIZ', 'ZXZI', 'IXZI', 'ZXXZ', 'ZXXI', 'IXXZ', 'IXXI', 'ZXXX',\n",
       "        'ZXYY', 'IXXX', 'IXYY', 'ZXZZ', 'IXZZ', 'ZXZX', 'ZXIX', 'IXZX',\n",
       "        'IXIX', 'ZXIZ', 'IXIZ', 'IZZI', 'IZXZ', 'IZXI', 'IZXX', 'IZYY',\n",
       "        'IZZZ', 'IZZX', 'IZIX', 'IZIZ', 'IIII'], dtype='<U4'),\n",
       " '1010')"
      ]
     },
     "execution_count": 4,
     "metadata": {},
     "output_type": "execute_result"
    }
   ],
   "source": [
    "coeffs, paulis, HF_bitstring"
   ]
  },
  {
   "cell_type": "code",
   "execution_count": 5,
   "metadata": {},
   "outputs": [
    {
     "data": {
      "text/plain": [
       "4"
      ]
     },
     "execution_count": 5,
     "metadata": {},
     "output_type": "execute_result"
    }
   ],
   "source": [
    "# number of qubits\n",
    "N = len(paulis[0])\n",
    "N"
   ]
  },
  {
   "cell_type": "code",
   "execution_count": null,
   "metadata": {},
   "outputs": [],
   "source": []
  },
  {
   "cell_type": "code",
   "execution_count": 7,
   "metadata": {},
   "outputs": [],
   "source": [
    "# configure underlying VQE structure, passed as keyword argument dictionary\n",
    "\n",
    "# a function which returns a parameterized Qiskit circuit (ansatz) and the number of parameters\n",
    "ansatz_func = ve.efficientsu2_full\n",
    "ansatz_reps = 1\n",
    "# if True, the initial HF_bitstring will be appended after ansatz (layer of X gates where there are 1s)\n",
    "# if False, HF_bitstring will be initialized before ansatz\n",
    "init_last = False\n",
    "\n",
    "vqe_kwargs = {\n",
    "    \"ansatz_func\": ansatz_func,\n",
    "    \"ansatz_reps\": ansatz_reps,\n",
    "    \"init_last\": init_last,\n",
    "    \"HF_bitstring\": HF_bitstring\n",
    "}"
   ]
  },
  {
   "cell_type": "code",
   "execution_count": 8,
   "metadata": {},
   "outputs": [
    {
     "name": "stdout",
     "output_type": "stream",
     "text": [
      "16\n"
     ]
    }
   ],
   "source": [
    "ansatz, num_params = ansatz_func(N, ansatz_reps)\n",
    "print(num_params)"
   ]
  },
  {
   "cell_type": "code",
   "execution_count": 9,
   "metadata": {},
   "outputs": [
    {
     "data": {
      "text/html": [
       "<pre style=\"word-wrap: normal;white-space: pre;background: #fff0;line-height: 1.1;font-family: &quot;Courier New&quot;,Courier,monospace\">     ┌──────────┐┌──────────┐ ░                                ░  ┌──────────┐┌───────────┐\n",
       "q_0: ┤ Ry(θ[0]) ├┤ Rz(θ[4]) ├─░───■────■────■──────────────────░──┤ Ry(θ[8]) ├┤ Rz(θ[12]) ├\n",
       "     ├──────────┤├──────────┤ ░ ┌─┴─┐  │    │                  ░  ├──────────┤├───────────┤\n",
       "q_1: ┤ Ry(θ[1]) ├┤ Rz(θ[5]) ├─░─┤ X ├──┼────┼────■────■────────░──┤ Ry(θ[9]) ├┤ Rz(θ[13]) ├\n",
       "     ├──────────┤├──────────┤ ░ └───┘┌─┴─┐  │  ┌─┴─┐  │        ░ ┌┴──────────┤├───────────┤\n",
       "q_2: ┤ Ry(θ[2]) ├┤ Rz(θ[6]) ├─░──────┤ X ├──┼──┤ X ├──┼────■───░─┤ Ry(θ[10]) ├┤ Rz(θ[14]) ├\n",
       "     ├──────────┤├──────────┤ ░      └───┘┌─┴─┐└───┘┌─┴─┐┌─┴─┐ ░ ├───────────┤├───────────┤\n",
       "q_3: ┤ Ry(θ[3]) ├┤ Rz(θ[7]) ├─░───────────┤ X ├─────┤ X ├┤ X ├─░─┤ Ry(θ[11]) ├┤ Rz(θ[15]) ├\n",
       "     └──────────┘└──────────┘ ░           └───┘     └───┘└───┘ ░ └───────────┘└───────────┘</pre>"
      ],
      "text/plain": [
       "     ┌──────────┐┌──────────┐ ░                                ░  ┌──────────┐┌───────────┐\n",
       "q_0: ┤ Ry(θ[0]) ├┤ Rz(θ[4]) ├─░───■────■────■──────────────────░──┤ Ry(θ[8]) ├┤ Rz(θ[12]) ├\n",
       "     ├──────────┤├──────────┤ ░ ┌─┴─┐  │    │                  ░  ├──────────┤├───────────┤\n",
       "q_1: ┤ Ry(θ[1]) ├┤ Rz(θ[5]) ├─░─┤ X ├──┼────┼────■────■────────░──┤ Ry(θ[9]) ├┤ Rz(θ[13]) ├\n",
       "     ├──────────┤├──────────┤ ░ └───┘┌─┴─┐  │  ┌─┴─┐  │        ░ ┌┴──────────┤├───────────┤\n",
       "q_2: ┤ Ry(θ[2]) ├┤ Rz(θ[6]) ├─░──────┤ X ├──┼──┤ X ├──┼────■───░─┤ Ry(θ[10]) ├┤ Rz(θ[14]) ├\n",
       "     ├──────────┤├──────────┤ ░      └───┘┌─┴─┐└───┘┌─┴─┐┌─┴─┐ ░ ├───────────┤├───────────┤\n",
       "q_3: ┤ Ry(θ[3]) ├┤ Rz(θ[7]) ├─░───────────┤ X ├─────┤ X ├┤ X ├─░─┤ Ry(θ[11]) ├┤ Rz(θ[15]) ├\n",
       "     └──────────┘└──────────┘ ░           └───┘     └───┘└───┘ ░ └───────────┘└───────────┘"
      ]
     },
     "execution_count": 9,
     "metadata": {},
     "output_type": "execute_result"
    }
   ],
   "source": [
    "ansatz.draw(fold=-1)"
   ]
  },
  {
   "cell_type": "code",
   "execution_count": null,
   "metadata": {},
   "outputs": [],
   "source": []
  },
  {
   "cell_type": "markdown",
   "metadata": {},
   "source": [
    "CAFQA parameters are represented by a list $[x_0, x_1, x_2, ...]$ where $x_i$ parametrizes the $i$-th gate in the ansatz and can only take the discrete values $\\{0,1,2,3\\}$. Typically the parameterized gates are rotation gates, $R_y$ or $R_z$, so that $x_i$ corresponds to a rotation angle $x_i \\cdot \\pi/2$."
   ]
  },
  {
   "cell_type": "code",
   "execution_count": 10,
   "metadata": {},
   "outputs": [
    {
     "data": {
      "text/plain": [
       "[0, 1, 0, 0, 1, 2, 1, 3, 0, 0, 0, 2, 1, 3, 0, 2]"
      ]
     },
     "execution_count": 10,
     "metadata": {},
     "output_type": "execute_result"
    }
   ],
   "source": [
    "# configure algorithm\n",
    "\n",
    "budget = 100                                                 # number of iterations\n",
    "guess = list(map(int, np.random.randint(0, 4, num_params)))  # initial param guess\n",
    "guess"
   ]
  },
  {
   "cell_type": "code",
   "execution_count": 11,
   "metadata": {},
   "outputs": [],
   "source": [
    "# get VQE circuit guess parameters (* pi/2)\n",
    "qc = ve.vqe_circuit(\n",
    "    N, \n",
    "    np.array(guess)*np.pi/2, \n",
    "    paulis, \n",
    "    ansatz_func=ansatz_func, \n",
    "    ansatz_reps=ansatz_reps, \n",
    "    init_last=init_last,\n",
    "    HF_bitstring=HF_bitstring\n",
    "    )"
   ]
  },
  {
   "cell_type": "code",
   "execution_count": 12,
   "metadata": {},
   "outputs": [
    {
     "data": {
      "text/html": [
       "<pre style=\"word-wrap: normal;white-space: pre;background: #fff0;line-height: 1.1;font-family: &quot;Courier New&quot;,Courier,monospace\">         ┌───┐    ┌───────┐  ┌─────────┐ ░                                ░ ┌───────┐┌─────────┐ \n",
       "q1_0: ───┤ X ├────┤ Ry(0) ├──┤ Rz(π/2) ├─░───■────■────■──────────────────░─┤ Ry(0) ├┤ Rz(π/2) ├─\n",
       "      ┌──┴───┴──┐ ├───────┤  └─────────┘ ░ ┌─┴─┐  │    │                  ░ ├───────┤├─────────┴┐\n",
       "q1_1: ┤ Ry(π/2) ├─┤ Rz(π) ├──────────────░─┤ X ├──┼────┼────■────■────────░─┤ Ry(0) ├┤ Rz(3π/2) ├\n",
       "      └──┬───┬──┘ ├───────┤  ┌─────────┐ ░ └───┘┌─┴─┐  │  ┌─┴─┐  │        ░ ├───────┤└┬───────┬─┘\n",
       "q1_2: ───┤ X ├────┤ Ry(0) ├──┤ Rz(π/2) ├─░──────┤ X ├──┼──┤ X ├──┼────■───░─┤ Ry(0) ├─┤ Rz(0) ├──\n",
       "       ┌─┴───┴─┐ ┌┴───────┴─┐└─────────┘ ░      └───┘┌─┴─┐└───┘┌─┴─┐┌─┴─┐ ░ ├───────┤ ├───────┤  \n",
       "q1_3: ─┤ Ry(0) ├─┤ Rz(3π/2) ├────────────░───────────┤ X ├─────┤ X ├┤ X ├─░─┤ Ry(π) ├─┤ Rz(π) ├──\n",
       "       └───────┘ └──────────┘            ░           └───┘     └───┘└───┘ ░ └───────┘ └───────┘  \n",
       "c0: 4/═══════════════════════════════════════════════════════════════════════════════════════════\n",
       "                                                                                                 </pre>"
      ],
      "text/plain": [
       "         ┌───┐    ┌───────┐  ┌─────────┐ ░                                ░ ┌───────┐┌─────────┐ \n",
       "q1_0: ───┤ X ├────┤ Ry(0) ├──┤ Rz(π/2) ├─░───■────■────■──────────────────░─┤ Ry(0) ├┤ Rz(π/2) ├─\n",
       "      ┌──┴───┴──┐ ├───────┤  └─────────┘ ░ ┌─┴─┐  │    │                  ░ ├───────┤├─────────┴┐\n",
       "q1_1: ┤ Ry(π/2) ├─┤ Rz(π) ├──────────────░─┤ X ├──┼────┼────■────■────────░─┤ Ry(0) ├┤ Rz(3π/2) ├\n",
       "      └──┬───┬──┘ ├───────┤  ┌─────────┐ ░ └───┘┌─┴─┐  │  ┌─┴─┐  │        ░ ├───────┤└┬───────┬─┘\n",
       "q1_2: ───┤ X ├────┤ Ry(0) ├──┤ Rz(π/2) ├─░──────┤ X ├──┼──┤ X ├──┼────■───░─┤ Ry(0) ├─┤ Rz(0) ├──\n",
       "       ┌─┴───┴─┐ ┌┴───────┴─┐└─────────┘ ░      └───┘┌─┴─┐└───┘┌─┴─┐┌─┴─┐ ░ ├───────┤ ├───────┤  \n",
       "q1_3: ─┤ Ry(0) ├─┤ Rz(3π/2) ├────────────░───────────┤ X ├─────┤ X ├┤ X ├─░─┤ Ry(π) ├─┤ Rz(π) ├──\n",
       "       └───────┘ └──────────┘            ░           └───┘     └───┘└───┘ ░ └───────┘ └───────┘  \n",
       "c0: 4/═══════════════════════════════════════════════════════════════════════════════════════════\n",
       "                                                                                                 "
      ]
     },
     "execution_count": 12,
     "metadata": {},
     "output_type": "execute_result"
    }
   ],
   "source": [
    "qc.draw(fold=-1)"
   ]
  },
  {
   "cell_type": "code",
   "execution_count": 13,
   "metadata": {},
   "outputs": [],
   "source": [
    "# configure output\n",
    "\n",
    "save_dir = \"cafqa_example_out/\"\n",
    "os.system(f\"mkdir -p {save_dir}\")\n",
    "# the output files are relative to save_dir\n",
    "result_file = \"result.txt\"\n",
    "loss_file = \"cafqa_loss.txt\"\n",
    "params_file = \"cafqa_params.txt\""
   ]
  },
  {
   "cell_type": "code",
   "execution_count": 15,
   "metadata": {},
   "outputs": [
    {
     "name": "stdout",
     "output_type": "stream",
     "text": [
      "Design of experiment phase, number of new doe samples = 100 .......\n",
      "Loss computed by CAFQA VQE is -6.303975273360418, in 0.037970999999970445 s.\n",
      "Loss computed by CAFQA VQE is -5.0899195084870765, in 0.04066629199996896 s.\n",
      "Loss computed by CAFQA VQE is -4.103156838105281, in 0.03544545800002652 s.\n",
      "Loss computed by CAFQA VQE is -4.9152666176743836, in 0.030116457999952218 s.\n",
      "Loss computed by CAFQA VQE is -5.172458727833618, in 0.03770195900000317 s.\n",
      "Loss computed by CAFQA VQE is -4.749654677918967, in 0.035265125000023545 s.\n",
      "Loss computed by CAFQA VQE is -6.396809054335812, in 0.03857979100001785 s.\n",
      "Loss computed by CAFQA VQE is -6.3069136429556, in 0.0415249160000144 s.\n",
      "Loss computed by CAFQA VQE is -6.156116114417488, in 0.03217037500002107 s.\n",
      "Loss computed by CAFQA VQE is -5.1932718620191345, in 0.03300720900000442 s.\n",
      "Loss computed by CAFQA VQE is -4.873375490670577, in 0.03872662499998114 s.\n",
      "Loss computed by CAFQA VQE is -6.608737099708366, in 0.03006279200002382 s.\n",
      "Loss computed by CAFQA VQE is -5.164583928381395, in 0.04602316700004394 s.\n",
      "Loss computed by CAFQA VQE is -4.85212982206837, in 0.03927183400003287 s.\n",
      "Loss computed by CAFQA VQE is -6.3955243642979696, in 0.03982758299997613 s.\n",
      "Loss computed by CAFQA VQE is -4.437157009641215, in 0.038672749999989264 s.\n",
      "Loss computed by CAFQA VQE is -4.85545581115859, in 0.0429723330000229 s.\n",
      "Loss computed by CAFQA VQE is -4.547156843963178, in 0.03888399999999592 s.\n",
      "Loss computed by CAFQA VQE is -6.054227555108506, in 0.032721165999987534 s.\n",
      "Loss computed by CAFQA VQE is -5.767220650546175, in 0.02899333300001672 s.\n",
      "Loss computed by CAFQA VQE is -3.9043533995078596, in 0.047628791999954956 s.\n",
      "Loss computed by CAFQA VQE is -4.883113024078668, in 0.03343695799998159 s.\n",
      "Loss computed by CAFQA VQE is -1.1576511544917452, in 0.03728079100000059 s.\n",
      "Loss computed by CAFQA VQE is -4.1327414613359466, in 0.029406290999986595 s.\n",
      "Loss computed by CAFQA VQE is -4.827088989968965, in 0.04075470800000858 s.\n",
      "Loss computed by CAFQA VQE is -3.182100938190834, in 0.03787295800003676 s.\n",
      "Loss computed by CAFQA VQE is -3.8622948740008165, in 0.039426374999948166 s.\n",
      "Loss computed by CAFQA VQE is -4.566840583014951, in 0.03455416700001024 s.\n",
      "Loss computed by CAFQA VQE is -6.123296395886406, in 0.037233291999996254 s.\n",
      "Loss computed by CAFQA VQE is -4.805694453049041, in 0.03799158399999669 s.\n",
      "Loss computed by CAFQA VQE is -1.1576511544917452, in 0.03373037500000464 s.\n",
      "Loss computed by CAFQA VQE is -5.016277994773761, in 0.03876583300001357 s.\n",
      "Loss computed by CAFQA VQE is -6.275734536765947, in 0.035196416000019326 s.\n",
      "Loss computed by CAFQA VQE is -6.396809054335813, in 0.032574624999995194 s.\n",
      "Loss computed by CAFQA VQE is -4.767211141313931, in 0.03858066699996243 s.\n",
      "Loss computed by CAFQA VQE is -4.132741461335948, in 0.029582582999978513 s.\n",
      "Loss computed by CAFQA VQE is -4.998604668250735, in 0.02972879099996817 s.\n",
      "Loss computed by CAFQA VQE is -4.952947093660924, in 0.03462858300002836 s.\n",
      "Loss computed by CAFQA VQE is -5.678641246706119, in 0.034213084000043636 s.\n",
      "Loss computed by CAFQA VQE is -4.520305737243003, in 0.041676084000016544 s.\n",
      "Loss computed by CAFQA VQE is -6.367560694390166, in 0.0334537499999783 s.\n",
      "Loss computed by CAFQA VQE is -4.794747870163823, in 0.03557241700002578 s.\n",
      "Loss computed by CAFQA VQE is -6.441779394881159, in 0.03282608300003176 s.\n",
      "Loss computed by CAFQA VQE is -4.8000070071739085, in 0.043018625000001975 s.\n",
      "Loss computed by CAFQA VQE is -6.410854768054788, in 0.034599458000002414 s.\n",
      "Loss computed by CAFQA VQE is -4.3854092322512574, in 0.03529454199997417 s.\n",
      "Loss computed by CAFQA VQE is -3.191835707953494, in 0.037489708000009614 s.\n",
      "Loss computed by CAFQA VQE is -3.3824035541305153, in 0.03229095900002221 s.\n",
      "Loss computed by CAFQA VQE is -4.9045537759136355, in 0.03544520799999873 s.\n",
      "Loss computed by CAFQA VQE is -4.895714455384088, in 0.03775795899997547 s.\n",
      "Loss computed by CAFQA VQE is -7.767320163607321, in 0.027952416000005087 s.\n",
      "Loss computed by CAFQA VQE is -5.067721324367776, in 0.03755445899997767 s.\n",
      "Loss computed by CAFQA VQE is -3.6151373658284025, in 0.037815083999987564 s.\n",
      "Loss computed by CAFQA VQE is -4.82739898399625, in 0.0367403749999653 s.\n",
      "Loss computed by CAFQA VQE is -3.870487538316762, in 0.034390083000005234 s.\n",
      "Loss computed by CAFQA VQE is -6.799063117591624, in 0.033610665999958655 s.\n",
      "Loss computed by CAFQA VQE is -6.367560694390166, in 0.04424037500001532 s.\n",
      "Loss computed by CAFQA VQE is -4.437157009641215, in 0.038216375000047265 s.\n",
      "Loss computed by CAFQA VQE is -5.084036946216967, in 0.044596334000004845 s.\n",
      "Loss computed by CAFQA VQE is -4.805408456741615, in 0.03588624999997592 s.\n",
      "Loss computed by CAFQA VQE is -5.066785510607749, in 0.039440375000026506 s.\n",
      "Loss computed by CAFQA VQE is -5.086703376185307, in 0.045576957999969636 s.\n",
      "Loss computed by CAFQA VQE is -5.098958584896582, in 0.0354696670000294 s.\n",
      "Loss computed by CAFQA VQE is -4.7416574225646375, in 0.035295167000015226 s.\n",
      "Loss computed by CAFQA VQE is -3.658188201981447, in 0.03477454099999022 s.\n",
      "Loss computed by CAFQA VQE is -5.0910051000055425, in 0.03721058300004643 s.\n",
      "Loss computed by CAFQA VQE is -5.193264534473736, in 0.03713087500000256 s.\n",
      "Loss computed by CAFQA VQE is -4.8028312128990915, in 0.03988545800001475 s.\n",
      "Loss computed by CAFQA VQE is -4.72132416313381, in 0.040185082999983024 s.\n",
      "Loss computed by CAFQA VQE is -4.834392944333722, in 0.03914395900000045 s.\n",
      "Loss computed by CAFQA VQE is -6.417200721972279, in 0.03637762500000008 s.\n",
      "Loss computed by CAFQA VQE is -3.2286179420271615, in 0.03245125000000826 s.\n",
      "Loss computed by CAFQA VQE is -4.9146891865423274, in 0.032268541000007644 s.\n",
      "Loss computed by CAFQA VQE is -4.7714504283931305, in 0.03552870799995844 s.\n",
      "Loss computed by CAFQA VQE is -5.0138617352187165, in 0.03839375000001155 s.\n",
      "Loss computed by CAFQA VQE is -4.804119193729029, in 0.036155375000021195 s.\n",
      "Loss computed by CAFQA VQE is -5.090372036498513, in 0.034205957999972725 s.\n",
      "Loss computed by CAFQA VQE is -4.818518354191271, in 0.037461166000014146 s.\n",
      "Loss computed by CAFQA VQE is -4.585582855676032, in 0.043783791999999266 s.\n",
      "Loss computed by CAFQA VQE is -4.836983983702034, in 0.038275708000014674 s.\n",
      "Loss computed by CAFQA VQE is -4.860050097828678, in 0.04064954200003967 s.\n",
      "Loss computed by CAFQA VQE is -4.9152666176743836, in 0.03681712500002732 s.\n",
      "Loss computed by CAFQA VQE is -3.191835707953495, in 0.03673691599999529 s.\n",
      "Loss computed by CAFQA VQE is -4.805694453049041, in 0.0407982920000336 s.\n",
      "Loss computed by CAFQA VQE is -1.9806581766181752, in 0.036326791999954366 s.\n",
      "Loss computed by CAFQA VQE is -3.658188201981447, in 0.03359054199995626 s.\n",
      "Loss computed by CAFQA VQE is -4.82952640310298, in 0.034075167000025885 s.\n",
      "Loss computed by CAFQA VQE is -6.799063117591624, in 0.03584616699998833 s.\n",
      "Loss computed by CAFQA VQE is -4.724684130655099, in 0.03439162500001203 s.\n",
      "Loss computed by CAFQA VQE is -4.747364316583363, in 0.0354086250000023 s.\n",
      "Loss computed by CAFQA VQE is -6.444817903373661, in 0.03310766700002432 s.\n",
      "Loss computed by CAFQA VQE is -4.801074870363674, in 0.03908720799995535 s.\n",
      "Loss computed by CAFQA VQE is -6.25932468835955, in 0.03582645900002035 s.\n",
      "Loss computed by CAFQA VQE is -4.777722079549321, in 0.0411735420000241 s.\n",
      "Loss computed by CAFQA VQE is -4.849234626646263, in 0.03391754200004016 s.\n",
      "Loss computed by CAFQA VQE is -4.566840583014951, in 0.03485066700000061 s.\n",
      "Loss computed by CAFQA VQE is -4.981049816635858, in 0.033920833000024686 s.\n",
      "Loss computed by CAFQA VQE is -4.400296143037696, in 0.040988000000027114 s.\n",
      "Loss computed by CAFQA VQE is -4.7491505690567966, in 0.03550195899998698 s.\n",
      "Loss computed by CAFQA VQE is -4.743805107993682, in 0.03257020799998145 s.\n",
      "x0,x1,x2,x3,x4,x5,x6,x7,x8,x9,x10,x11,x12,x13,x14,x15,value,Timestamp\n",
      "0,1,0,0,1,2,1,3,0,0,0,2,1,3,0,2,-6.303975273360418,56\n",
      "1,2,3,3,3,3,3,1,0,0,1,3,2,1,1,3,-5.0899195084870765,98\n",
      "3,2,2,1,2,0,0,2,2,0,3,1,3,2,2,0,-4.103156838105281,135\n",
      "1,0,1,2,2,3,3,0,0,0,2,2,2,0,0,2,-4.9152666176743836,166\n",
      "1,0,1,1,0,1,3,3,1,0,1,0,2,1,2,2,-5.172458727833618,206\n",
      "3,0,0,2,3,0,2,1,1,1,3,3,0,1,0,0,-4.749654677918967,242\n",
      "1,0,2,3,3,0,1,3,1,3,2,1,2,3,1,0,-6.396809054335812,282\n",
      "2,1,3,3,1,1,0,2,1,0,1,1,2,1,1,1,-6.3069136429556,324\n",
      "2,0,1,2,3,0,2,3,2,1,2,0,1,2,1,0,-6.156116114417488,358\n",
      "0,2,3,2,0,3,2,2,1,1,2,0,3,0,3,0,-5.1932718620191345,392\n",
      "3,3,1,1,0,2,1,2,0,2,3,2,2,0,2,2,-4.873375490670577,432\n",
      "2,3,0,0,3,2,3,2,2,3,0,0,0,0,1,2,-6.608737099708366,463\n",
      "1,3,1,3,2,2,0,1,3,1,3,3,1,3,1,3,-5.164583928381395,510\n",
      "1,3,3,1,0,0,1,0,1,2,2,2,2,2,3,1,-4.85212982206837,550\n",
      "2,1,2,3,1,3,2,3,2,1,2,1,1,3,2,3,-6.3955243642979696,592\n",
      "3,3,3,2,2,3,0,2,0,0,1,1,3,2,3,3,-4.437157009641215,632\n",
      "3,3,1,2,1,2,1,1,1,1,3,0,3,2,3,3,-4.85545581115859,676\n",
      "1,3,3,3,0,2,3,1,2,3,1,0,2,1,0,0,-4.547156843963178,716\n",
      "0,0,3,2,1,1,0,1,0,3,1,1,2,0,0,0,-6.054227555108506,750\n",
      "0,0,2,2,1,2,1,0,2,0,2,2,3,3,2,3,-5.767220650546175,780\n",
      "3,3,1,3,2,3,2,3,3,1,3,3,1,3,1,3,-3.9043533995078596,829\n",
      "0,0,0,1,1,2,0,2,1,0,1,1,1,3,2,0,-4.883113024078668,864\n",
      "0,3,1,1,3,3,0,0,2,2,1,2,1,2,2,2,-1.1576511544917452,902\n",
      "0,2,3,0,3,2,1,0,2,2,0,0,2,3,1,3,-4.1327414613359466,933\n",
      "3,3,0,0,3,2,1,3,3,2,3,3,1,2,2,2,-4.827088989968965,975\n",
      "0,3,1,2,2,3,3,0,2,0,3,1,3,2,1,3,-3.182100938190834,1014\n",
      "1,1,1,0,0,2,2,2,1,3,1,0,1,2,1,0,-3.8622948740008165,1055\n",
      "0,0,0,2,1,3,3,1,3,1,3,0,2,1,1,1,-4.566840583014951,1090\n",
      "0,3,1,2,1,1,0,0,0,3,3,1,0,3,3,2,-6.123296395886406,1129\n",
      "3,2,0,2,1,3,1,3,3,2,1,1,3,0,1,1,-4.805694453049041,1168\n",
      "0,2,2,2,2,2,0,3,2,1,2,3,3,3,0,2,-1.1576511544917452,1203\n",
      "0,3,1,3,1,2,1,0,1,2,0,3,3,0,3,1,-5.016277994773761,1243\n",
      "0,3,3,1,1,1,3,2,0,0,2,1,0,0,3,2,-6.275734536765947,1279\n",
      "0,2,3,1,1,3,0,2,0,1,0,2,1,3,3,0,-6.396809054335813,1313\n",
      "3,3,2,2,0,3,0,2,2,1,2,1,1,3,3,3,-4.767211141313931,1352\n",
      "3,2,0,0,3,0,3,1,2,2,0,0,1,1,1,2,-4.132741461335948,1383\n",
      "3,0,1,0,1,2,1,1,2,0,0,0,0,1,1,3,-4.998604668250735,1414\n",
      "3,3,1,0,3,3,2,3,0,0,0,2,2,1,3,2,-4.952947093660924,1450\n",
      "2,0,2,0,1,1,3,1,0,2,2,1,1,2,3,3,-5.678641246706119,1485\n",
      "2,1,3,3,2,0,3,2,3,2,3,3,0,2,1,2,-4.520305737243003,1528\n",
      "0,2,0,3,2,1,2,0,1,0,2,1,2,0,3,3,-6.367560694390166,1563\n",
      "3,0,0,0,3,0,3,2,2,3,3,1,3,2,1,2,-4.794747870163823,1599\n",
      "0,2,0,3,3,2,1,1,0,3,1,0,1,0,2,1,-6.441779394881159,1633\n",
      "1,1,1,1,1,1,1,1,2,2,3,3,3,1,0,1,-4.8000070071739085,1677\n",
      "0,3,3,1,2,0,1,0,0,0,3,2,3,3,1,1,-6.410854768054788,1713\n",
      "3,1,1,0,2,0,3,0,1,0,3,2,0,3,1,0,-4.3854092322512574,1750\n",
      "0,0,1,2,2,2,1,2,2,3,3,1,0,3,2,3,-3.191835707953494,1788\n",
      "2,3,2,0,0,3,3,3,0,2,0,1,2,1,2,2,-3.3824035541305153,1822\n",
      "2,1,2,3,3,2,1,0,1,2,0,0,3,2,2,3,-4.9045537759136355,1858\n",
      "2,1,2,0,0,2,0,1,3,3,3,1,3,3,0,1,-4.895714455384088,1897\n",
      "0,2,0,0,3,3,2,0,0,3,2,2,0,3,1,1,-7.767320163607321,1926\n",
      "1,2,2,0,3,2,3,0,1,3,3,2,2,3,1,0,-5.067721324367776,1965\n",
      "2,1,3,2,2,0,0,2,0,3,3,1,0,3,1,0,-3.6151373658284025,2004\n",
      "2,2,0,0,3,2,1,0,3,1,3,3,1,2,3,1,-4.82739898399625,2042\n",
      "3,2,0,2,3,2,1,0,3,1,0,2,3,0,3,2,-3.870487538316762,2077\n",
      "0,0,1,2,0,1,2,2,0,2,3,1,2,2,0,3,-6.799063117591624,2112\n",
      "1,1,1,1,3,0,2,0,3,3,1,3,3,3,0,2,-6.367560694390166,2158\n",
      "3,1,1,0,0,3,2,1,1,1,2,2,1,0,1,2,-4.437157009641215,2197\n",
      "3,3,1,1,3,1,3,0,2,1,1,1,2,0,1,2,-5.084036946216967,2243\n",
      "0,3,1,3,0,3,2,0,1,3,0,0,0,2,3,2,-4.805408456741615,2279\n",
      "3,2,1,2,2,3,0,0,1,1,3,2,3,3,1,3,-5.066785510607749,2320\n",
      "0,3,3,3,3,1,3,2,1,3,3,1,1,2,3,3,-5.086703376185307,2367\n",
      "3,1,0,2,3,2,0,3,0,1,1,2,0,2,2,2,-5.098958584896582,2403\n",
      "2,0,2,0,3,2,0,0,1,1,3,1,0,3,1,1,-4.7416574225646375,2440\n",
      "3,2,3,1,2,0,0,0,0,0,3,0,2,3,2,3,-3.658188201981447,2476\n",
      "2,3,0,1,1,2,0,2,3,2,1,3,2,0,0,2,-5.0910051000055425,2514\n",
      "0,2,3,3,2,3,1,0,1,2,0,3,2,2,2,1,-5.193264534473736,2552\n",
      "2,3,1,1,3,3,0,0,3,1,2,0,2,2,2,3,-4.8028312128990915,2593\n",
      "1,1,1,1,3,3,1,2,3,0,3,0,0,2,1,3,-4.72132416313381,2635\n",
      "1,1,0,1,1,2,2,3,3,2,3,0,0,1,3,2,-4.834392944333722,2675\n",
      "2,1,0,1,2,3,2,2,2,0,3,2,3,2,2,1,-6.417200721972279,2712\n",
      "2,0,1,0,2,3,2,0,0,1,2,3,0,1,2,3,-3.2286179420271615,2746\n",
      "0,2,3,0,3,2,3,3,3,0,2,2,0,1,2,3,-4.9146891865423274,2779\n",
      "1,1,1,1,1,1,3,0,0,0,0,2,3,3,0,1,-4.7714504283931305,2816\n",
      "2,0,2,1,1,0,1,0,3,1,3,1,2,2,1,1,-5.0138617352187165,2856\n",
      "1,1,1,0,1,2,3,3,2,3,0,2,0,3,0,0,-4.804119193729029,2894\n",
      "0,1,0,2,0,0,1,3,1,3,0,2,2,2,1,1,-5.090372036498513,2929\n",
      "3,3,2,0,0,3,3,2,0,3,3,3,1,3,2,0,-4.818518354191271,2968\n",
      "3,1,1,3,0,1,1,2,2,3,3,3,1,0,1,1,-4.585582855676032,3013\n",
      "1,2,1,0,2,3,1,3,1,0,3,2,2,2,1,2,-4.836983983702034,3053\n",
      "3,2,1,1,0,2,2,3,1,2,3,2,3,2,1,2,-4.860050097828678,3094\n",
      "3,2,3,3,0,0,2,3,0,0,3,1,3,0,1,2,-4.9152666176743836,3132\n",
      "3,2,0,3,1,0,3,1,3,0,0,3,1,1,3,2,-3.191835707953495,3170\n",
      "3,2,1,3,3,1,1,3,1,3,0,1,0,2,0,0,-4.805694453049041,3212\n",
      "0,3,3,1,1,2,0,0,2,1,3,2,0,0,2,1,-1.9806581766181752,3250\n",
      "1,0,2,2,1,3,3,3,2,0,0,1,2,2,3,3,-3.658188201981447,3285\n",
      "0,0,0,0,2,3,3,3,1,3,1,1,0,3,1,0,-4.82952640310298,3320\n",
      "2,0,3,3,2,1,3,1,2,0,1,2,1,3,1,3,-6.799063117591624,3357\n",
      "1,1,3,2,0,3,1,1,0,0,2,0,3,1,3,1,-4.724684130655099,3392\n",
      "1,1,0,2,1,1,1,2,3,2,0,3,0,3,1,0,-4.747364316583363,3429\n",
      "2,2,0,1,0,2,0,0,1,3,2,0,3,2,2,2,-6.444817903373661,3463\n",
      "0,1,3,0,0,1,2,2,1,1,2,3,1,3,1,3,-4.801074870363674,3503\n",
      "0,1,3,1,2,0,2,2,0,0,2,1,1,1,1,1,-6.25932468835955,3540\n",
      "1,3,2,1,1,1,0,3,0,3,3,1,3,2,1,2,-4.777722079549321,3582\n",
      "1,1,2,1,0,2,0,0,2,3,0,0,0,0,3,1,-4.849234626646263,3617\n",
      "2,3,2,2,0,2,2,0,3,2,3,2,0,3,3,3,-4.566840583014951,3654\n",
      "1,3,2,0,3,0,2,0,2,2,2,3,2,1,2,0,-4.981049816635858,3689\n",
      "1,1,3,1,0,3,3,1,0,1,1,2,0,1,1,2,-4.400296143037696,3731\n",
      "1,1,1,2,3,2,1,2,0,2,1,0,0,1,0,3,-4.7491505690567966,3767\n",
      "1,3,0,0,0,3,3,2,2,2,0,2,2,1,1,1,-4.743805107993682,3802\n",
      "\n",
      "\n",
      "End of doe/resume phase, the number of evaluated configurations is: 100\n",
      "\n",
      "Starting optimization iteration 1\n"
     ]
    },
    {
     "ename": "AttributeError",
     "evalue": "Can't pickle local object 'Space.__init__.<locals>.<lambda>'",
     "output_type": "error",
     "traceback": [
      "\u001b[0;31m---------------------------------------------------------------------------\u001b[0m",
      "\u001b[0;31mAttributeError\u001b[0m                            Traceback (most recent call last)",
      "Cell \u001b[0;32mIn[15], line 7\u001b[0m\n\u001b[1;32m      1\u001b[0m \u001b[38;5;66;03m# run CAFQA\u001b[39;00m\n\u001b[1;32m      2\u001b[0m \n\u001b[1;32m      3\u001b[0m \u001b[38;5;66;03m# hypermapper changes the standard output to write to log files, so it needs to be\u001b[39;00m\n\u001b[1;32m      4\u001b[0m \u001b[38;5;66;03m# changed back after CAFQA (otherwise printing breaks)\u001b[39;00m\n\u001b[1;32m      6\u001b[0m stdout \u001b[38;5;241m=\u001b[39m sys\u001b[38;5;241m.\u001b[39mstdout\n\u001b[0;32m----> 7\u001b[0m cafqa_energy, cafqa_params \u001b[38;5;241m=\u001b[39m \u001b[43mve\u001b[49m\u001b[38;5;241;43m.\u001b[39;49m\u001b[43mrun_cafqa\u001b[49m\u001b[43m(\u001b[49m\n\u001b[1;32m      8\u001b[0m \u001b[43m    \u001b[49m\u001b[43mn_qubits\u001b[49m\u001b[38;5;241;43m=\u001b[39;49m\u001b[43mN\u001b[49m\u001b[43m,\u001b[49m\n\u001b[1;32m      9\u001b[0m \u001b[43m    \u001b[49m\u001b[43mcoeffs\u001b[49m\u001b[38;5;241;43m=\u001b[39;49m\u001b[43mcoeffs\u001b[49m\u001b[43m,\u001b[49m\n\u001b[1;32m     10\u001b[0m \u001b[43m    \u001b[49m\u001b[43mpaulis\u001b[49m\u001b[38;5;241;43m=\u001b[39;49m\u001b[43mpaulis\u001b[49m\u001b[43m,\u001b[49m\n\u001b[1;32m     11\u001b[0m \u001b[43m    \u001b[49m\u001b[43mparam_guess\u001b[49m\u001b[38;5;241;43m=\u001b[39;49m\u001b[38;5;28;43mlist\u001b[39;49m\u001b[43m(\u001b[49m\u001b[43mguess\u001b[49m\u001b[43m)\u001b[49m\u001b[43m,\u001b[49m\n\u001b[1;32m     12\u001b[0m \u001b[43m    \u001b[49m\u001b[43mbudget\u001b[49m\u001b[38;5;241;43m=\u001b[39;49m\u001b[43mbudget\u001b[49m\u001b[43m,\u001b[49m\n\u001b[1;32m     13\u001b[0m \u001b[43m    \u001b[49m\u001b[43msave_dir\u001b[49m\u001b[38;5;241;43m=\u001b[39;49m\u001b[43msave_dir\u001b[49m\u001b[43m,\u001b[49m\n\u001b[1;32m     14\u001b[0m \u001b[43m    \u001b[49m\u001b[43mloss_file\u001b[49m\u001b[38;5;241;43m=\u001b[39;49m\u001b[43mloss_file\u001b[49m\u001b[43m,\u001b[49m\n\u001b[1;32m     15\u001b[0m \u001b[43m    \u001b[49m\u001b[43mparams_file\u001b[49m\u001b[38;5;241;43m=\u001b[39;49m\u001b[43mparams_file\u001b[49m\u001b[43m,\u001b[49m\n\u001b[1;32m     16\u001b[0m \u001b[43m    \u001b[49m\u001b[43mvqe_kwargs\u001b[49m\u001b[38;5;241;43m=\u001b[39;49m\u001b[43mvqe_kwargs\u001b[49m\n\u001b[1;32m     17\u001b[0m \u001b[43m)\u001b[49m\n\u001b[1;32m     18\u001b[0m sys\u001b[38;5;241m.\u001b[39mstdout \u001b[38;5;241m=\u001b[39m stdout\n",
      "File \u001b[0;32m~/my-code/CAFQA/example/../vqe_experiment.py:227\u001b[0m, in \u001b[0;36mrun_cafqa\u001b[0;34m(n_qubits, coeffs, paulis, param_guess, budget, save_dir, loss_file, params_file, vqe_kwargs)\u001b[0m\n\u001b[1;32m    224\u001b[0m     json\u001b[38;5;241m.\u001b[39mdump(config, config_file, indent\u001b[38;5;241m=\u001b[39m\u001b[38;5;241m4\u001b[39m)\n\u001b[1;32m    226\u001b[0m stdout \u001b[38;5;241m=\u001b[39m sys\u001b[38;5;241m.\u001b[39mstdout\n\u001b[0;32m--> 227\u001b[0m \u001b[43mhypermapper\u001b[49m\u001b[38;5;241;43m.\u001b[39;49m\u001b[43moptimizer\u001b[49m\u001b[38;5;241;43m.\u001b[39;49m\u001b[43moptimize\u001b[49m\u001b[43m(\u001b[49m\n\u001b[1;32m    228\u001b[0m \u001b[43m    \u001b[49m\u001b[43mhypermapper_config_path\u001b[49m\u001b[43m,\u001b[49m\u001b[43m \u001b[49m\n\u001b[1;32m    229\u001b[0m \u001b[43m    \u001b[49m\u001b[38;5;28;43;01mlambda\u001b[39;49;00m\u001b[43m \u001b[49m\u001b[43mx\u001b[49m\u001b[43m:\u001b[49m\u001b[43m \u001b[49m\u001b[43mvqe_cafqa_stim\u001b[49m\u001b[43m(\u001b[49m\n\u001b[1;32m    230\u001b[0m \u001b[43m        \u001b[49m\u001b[43minputs\u001b[49m\u001b[38;5;241;43m=\u001b[39;49m\u001b[43mx\u001b[49m\u001b[43m,\u001b[49m\n\u001b[1;32m    231\u001b[0m \u001b[43m        \u001b[49m\u001b[43mn_qubits\u001b[49m\u001b[38;5;241;43m=\u001b[39;49m\u001b[43mn_qubits\u001b[49m\u001b[43m,\u001b[49m\n\u001b[1;32m    232\u001b[0m \u001b[43m        \u001b[49m\u001b[43mloss_filename\u001b[49m\u001b[38;5;241;43m=\u001b[39;49m\u001b[43msave_dir\u001b[49m\u001b[43m \u001b[49m\u001b[38;5;241;43m+\u001b[39;49m\u001b[43m \u001b[49m\u001b[38;5;124;43m\"\u001b[39;49m\u001b[38;5;124;43m/\u001b[39;49m\u001b[38;5;124;43m\"\u001b[39;49m\u001b[43m \u001b[49m\u001b[38;5;241;43m+\u001b[39;49m\u001b[43m \u001b[49m\u001b[43mloss_file\u001b[49m\u001b[43m,\u001b[49m\n\u001b[1;32m    233\u001b[0m \u001b[43m        \u001b[49m\u001b[43mparams_filename\u001b[49m\u001b[38;5;241;43m=\u001b[39;49m\u001b[43msave_dir\u001b[49m\u001b[43m \u001b[49m\u001b[38;5;241;43m+\u001b[39;49m\u001b[43m \u001b[49m\u001b[38;5;124;43m\"\u001b[39;49m\u001b[38;5;124;43m/\u001b[39;49m\u001b[38;5;124;43m\"\u001b[39;49m\u001b[43m \u001b[49m\u001b[38;5;241;43m+\u001b[39;49m\u001b[43m \u001b[49m\u001b[43mparams_file\u001b[49m\u001b[43m,\u001b[49m\n\u001b[1;32m    234\u001b[0m \u001b[43m        \u001b[49m\u001b[43mpaulis\u001b[49m\u001b[38;5;241;43m=\u001b[39;49m\u001b[43mpaulis\u001b[49m\u001b[43m,\u001b[49m\u001b[43m \u001b[49m\n\u001b[1;32m    235\u001b[0m \u001b[43m        \u001b[49m\u001b[43mcoeffs\u001b[49m\u001b[38;5;241;43m=\u001b[39;49m\u001b[43mcoeffs\u001b[49m\u001b[43m,\u001b[49m\n\u001b[1;32m    236\u001b[0m \u001b[43m        \u001b[49m\u001b[38;5;241;43m*\u001b[39;49m\u001b[38;5;241;43m*\u001b[39;49m\u001b[43mvqe_kwargs\u001b[49m\n\u001b[1;32m    237\u001b[0m \u001b[43m    \u001b[49m\u001b[43m)\u001b[49m\u001b[43m)\u001b[49m\n\u001b[1;32m    238\u001b[0m sys\u001b[38;5;241m.\u001b[39mstdout \u001b[38;5;241m=\u001b[39m stdout\n\u001b[1;32m    240\u001b[0m energy_cafqa \u001b[38;5;241m=\u001b[39m np\u001b[38;5;241m.\u001b[39minf\n",
      "File \u001b[0;32m/opt/miniconda3/envs/iqc_env/lib/python3.12/site-packages/hypermapper/optimizer.py:124\u001b[0m, in \u001b[0;36moptimize\u001b[0;34m(parameters_file, black_box_function)\u001b[0m\n\u001b[1;32m    117\u001b[0m     profiling \u001b[38;5;241m=\u001b[39m \u001b[38;5;28;01mNone\u001b[39;00m\n\u001b[1;32m    119\u001b[0m \u001b[38;5;28;01mif\u001b[39;00m (\n\u001b[1;32m    120\u001b[0m     (optimization_method \u001b[38;5;241m==\u001b[39m \u001b[38;5;124m\"\u001b[39m\u001b[38;5;124mrandom_scalarizations\u001b[39m\u001b[38;5;124m\"\u001b[39m)\n\u001b[1;32m    121\u001b[0m     \u001b[38;5;129;01mor\u001b[39;00m (optimization_method \u001b[38;5;241m==\u001b[39m \u001b[38;5;124m\"\u001b[39m\u001b[38;5;124mbayesian_optimization\u001b[39m\u001b[38;5;124m\"\u001b[39m)\n\u001b[1;32m    122\u001b[0m     \u001b[38;5;129;01mor\u001b[39;00m (optimization_method \u001b[38;5;241m==\u001b[39m \u001b[38;5;124m\"\u001b[39m\u001b[38;5;124mprior_guided_optimization\u001b[39m\u001b[38;5;124m\"\u001b[39m)\n\u001b[1;32m    123\u001b[0m ):\n\u001b[0;32m--> 124\u001b[0m     data_array \u001b[38;5;241m=\u001b[39m \u001b[43mbo\u001b[49m\u001b[38;5;241;43m.\u001b[39;49m\u001b[43mmain\u001b[49m\u001b[43m(\u001b[49m\n\u001b[1;32m    125\u001b[0m \u001b[43m        \u001b[49m\u001b[43mconfig\u001b[49m\u001b[43m,\u001b[49m\u001b[43m \u001b[49m\u001b[43mblack_box_function\u001b[49m\u001b[38;5;241;43m=\u001b[39;49m\u001b[43mblack_box_function\u001b[49m\u001b[43m,\u001b[49m\u001b[43m \u001b[49m\u001b[43mprofiling\u001b[49m\u001b[38;5;241;43m=\u001b[39;49m\u001b[43mprofiling\u001b[49m\n\u001b[1;32m    126\u001b[0m \u001b[43m    \u001b[49m\u001b[43m)\u001b[49m\n\u001b[1;32m    127\u001b[0m \u001b[38;5;28;01melif\u001b[39;00m optimization_method \u001b[38;5;241m==\u001b[39m \u001b[38;5;124m\"\u001b[39m\u001b[38;5;124mlocal_search\u001b[39m\u001b[38;5;124m\"\u001b[39m:\n\u001b[1;32m    128\u001b[0m     data_array \u001b[38;5;241m=\u001b[39m local_search\u001b[38;5;241m.\u001b[39mmain(\n\u001b[1;32m    129\u001b[0m         config, black_box_function\u001b[38;5;241m=\u001b[39mblack_box_function, profiling\u001b[38;5;241m=\u001b[39mprofiling\n\u001b[1;32m    130\u001b[0m     )\n",
      "File \u001b[0;32m/opt/miniconda3/envs/iqc_env/lib/python3.12/site-packages/hypermapper/bo.py:459\u001b[0m, in \u001b[0;36mmain\u001b[0;34m(config, black_box_function, profiling)\u001b[0m\n\u001b[1;32m    457\u001b[0m local_search_t0 \u001b[38;5;241m=\u001b[39m datetime\u001b[38;5;241m.\u001b[39mdatetime\u001b[38;5;241m.\u001b[39mnow()\n\u001b[1;32m    458\u001b[0m \u001b[38;5;28;01mif\u001b[39;00m epsilon \u001b[38;5;241m>\u001b[39m epsilon_greedy_threshold:\n\u001b[0;32m--> 459\u001b[0m     best_configuration \u001b[38;5;241m=\u001b[39m \u001b[43mbo_method\u001b[49m\u001b[43m(\u001b[49m\n\u001b[1;32m    460\u001b[0m \u001b[43m        \u001b[49m\u001b[43mconfig\u001b[49m\u001b[43m,\u001b[49m\n\u001b[1;32m    461\u001b[0m \u001b[43m        \u001b[49m\u001b[43mdata_array\u001b[49m\u001b[43m,\u001b[49m\n\u001b[1;32m    462\u001b[0m \u001b[43m        \u001b[49m\u001b[43mparam_space\u001b[49m\u001b[43m,\u001b[49m\n\u001b[1;32m    463\u001b[0m \u001b[43m        \u001b[49m\u001b[43mfast_addressing_of_data_array\u001b[49m\u001b[43m,\u001b[49m\n\u001b[1;32m    464\u001b[0m \u001b[43m        \u001b[49m\u001b[43mregression_models\u001b[49m\u001b[43m,\u001b[49m\n\u001b[1;32m    465\u001b[0m \u001b[43m        \u001b[49m\u001b[43miteration_number\u001b[49m\u001b[43m,\u001b[49m\n\u001b[1;32m    466\u001b[0m \u001b[43m        \u001b[49m\u001b[43mobjective_weights\u001b[49m\u001b[43m,\u001b[49m\n\u001b[1;32m    467\u001b[0m \u001b[43m        \u001b[49m\u001b[43mobjective_limits\u001b[49m\u001b[43m,\u001b[49m\n\u001b[1;32m    468\u001b[0m \u001b[43m        \u001b[49m\u001b[43mclassification_model\u001b[49m\u001b[43m,\u001b[49m\n\u001b[1;32m    469\u001b[0m \u001b[43m        \u001b[49m\u001b[43mprofiling\u001b[49m\u001b[43m,\u001b[49m\n\u001b[1;32m    470\u001b[0m \u001b[43m        \u001b[49m\u001b[43macquisition_function_optimizer\u001b[49m\u001b[43m,\u001b[49m\n\u001b[1;32m    471\u001b[0m \u001b[43m    \u001b[49m\u001b[43m)\u001b[49m\n\u001b[1;32m    473\u001b[0m \u001b[38;5;28;01melse\u001b[39;00m:\n\u001b[1;32m    474\u001b[0m     sys\u001b[38;5;241m.\u001b[39mstdout\u001b[38;5;241m.\u001b[39mwrite_to_logfile(\n\u001b[1;32m    475\u001b[0m         \u001b[38;5;28mstr\u001b[39m(epsilon)\n\u001b[1;32m    476\u001b[0m         \u001b[38;5;241m+\u001b[39m \u001b[38;5;124m\"\u001b[39m\u001b[38;5;124m < \u001b[39m\u001b[38;5;124m\"\u001b[39m\n\u001b[1;32m    477\u001b[0m         \u001b[38;5;241m+\u001b[39m \u001b[38;5;28mstr\u001b[39m(epsilon_greedy_threshold)\n\u001b[1;32m    478\u001b[0m         \u001b[38;5;241m+\u001b[39m \u001b[38;5;124m\"\u001b[39m\u001b[38;5;124m random sampling a configuration to run\u001b[39m\u001b[38;5;130;01m\\n\u001b[39;00m\u001b[38;5;124m\"\u001b[39m\n\u001b[1;32m    479\u001b[0m     )\n",
      "File \u001b[0;32m/opt/miniconda3/envs/iqc_env/lib/python3.12/site-packages/hypermapper/random_scalarizations.py:559\u001b[0m, in \u001b[0;36mrandom_scalarizations\u001b[0;34m(config, data_array, param_space, fast_addressing_of_data_array, regression_models, iteration_number, objective_weights, objective_limits, classification_model, profiling, acquisition_function_optimizer)\u001b[0m\n\u001b[1;32m    556\u001b[0m optimization_function_parameters[\u001b[38;5;124m\"\u001b[39m\u001b[38;5;124mnumber_of_cpus\u001b[39m\u001b[38;5;124m\"\u001b[39m] \u001b[38;5;241m=\u001b[39m config[\u001b[38;5;124m\"\u001b[39m\u001b[38;5;124mnumber_of_cpus\u001b[39m\u001b[38;5;124m\"\u001b[39m]\n\u001b[1;32m    558\u001b[0m \u001b[38;5;28;01mif\u001b[39;00m acquisition_function_optimizer \u001b[38;5;241m==\u001b[39m \u001b[38;5;124m\"\u001b[39m\u001b[38;5;124mlocal_search\u001b[39m\u001b[38;5;124m\"\u001b[39m:\n\u001b[0;32m--> 559\u001b[0m     _, best_configuration \u001b[38;5;241m=\u001b[39m \u001b[43mlocal_search\u001b[49m\u001b[43m(\u001b[49m\n\u001b[1;32m    560\u001b[0m \u001b[43m        \u001b[49m\u001b[43mlocal_search_starting_points\u001b[49m\u001b[43m,\u001b[49m\n\u001b[1;32m    561\u001b[0m \u001b[43m        \u001b[49m\u001b[43mlocal_search_random_points\u001b[49m\u001b[43m,\u001b[49m\n\u001b[1;32m    562\u001b[0m \u001b[43m        \u001b[49m\u001b[43mparam_space\u001b[49m\u001b[43m,\u001b[49m\n\u001b[1;32m    563\u001b[0m \u001b[43m        \u001b[49m\u001b[43mfast_addressing_of_data_array\u001b[49m\u001b[43m,\u001b[49m\n\u001b[1;32m    564\u001b[0m \u001b[43m        \u001b[49m\u001b[38;5;28;43;01mFalse\u001b[39;49;00m\u001b[43m,\u001b[49m\u001b[43m  \u001b[49m\u001b[38;5;66;43;03m# we do not want the local search to consider feasibility constraints, only the acquisition functions\u001b[39;49;00m\n\u001b[1;32m    565\u001b[0m \u001b[43m        \u001b[49m\u001b[43mrun_acquisition_function\u001b[49m\u001b[43m,\u001b[49m\n\u001b[1;32m    566\u001b[0m \u001b[43m        \u001b[49m\u001b[43moptimization_function_parameters\u001b[49m\u001b[43m,\u001b[49m\n\u001b[1;32m    567\u001b[0m \u001b[43m        \u001b[49m\u001b[43mscalarization_key\u001b[49m\u001b[43m,\u001b[49m\n\u001b[1;32m    568\u001b[0m \u001b[43m        \u001b[49m\u001b[43mnumber_of_cpus\u001b[49m\u001b[43m,\u001b[49m\n\u001b[1;32m    569\u001b[0m \u001b[43m        \u001b[49m\u001b[43mprevious_points\u001b[49m\u001b[38;5;241;43m=\u001b[39;49m\u001b[43mdata_array\u001b[49m\u001b[43m,\u001b[49m\n\u001b[1;32m    570\u001b[0m \u001b[43m        \u001b[49m\u001b[43mprofiling\u001b[49m\u001b[38;5;241;43m=\u001b[39;49m\u001b[43mprofiling\u001b[49m\u001b[43m,\u001b[49m\n\u001b[1;32m    571\u001b[0m \u001b[43m    \u001b[49m\u001b[43m)\u001b[49m\n\u001b[1;32m    572\u001b[0m \u001b[38;5;28;01melif\u001b[39;00m acquisition_function_optimizer \u001b[38;5;241m==\u001b[39m \u001b[38;5;124m\"\u001b[39m\u001b[38;5;124mcma_es\u001b[39m\u001b[38;5;124m\"\u001b[39m:\n\u001b[1;32m    573\u001b[0m     logfile \u001b[38;5;241m=\u001b[39m deal_with_relative_and_absolute_path(\n\u001b[1;32m    574\u001b[0m         config[\u001b[38;5;124m\"\u001b[39m\u001b[38;5;124mrun_directory\u001b[39m\u001b[38;5;124m\"\u001b[39m], config[\u001b[38;5;124m\"\u001b[39m\u001b[38;5;124mlog_file\u001b[39m\u001b[38;5;124m\"\u001b[39m]\n\u001b[1;32m    575\u001b[0m     )\n",
      "File \u001b[0;32m/opt/miniconda3/envs/iqc_env/lib/python3.12/site-packages/hypermapper/local_search.py:538\u001b[0m, in \u001b[0;36mlocal_search\u001b[0;34m(local_search_starting_points, local_search_random_points, param_space, fast_addressing_of_data_array, enable_feasible_predictor, optimization_function, optimization_function_parameters, scalarization_key, number_of_cpus, previous_points, profiling, noise)\u001b[0m\n\u001b[1;32m    536\u001b[0m \u001b[38;5;28;01mwith\u001b[39;00m threadpool_limits(limits\u001b[38;5;241m=\u001b[39m\u001b[38;5;241m1\u001b[39m):\n\u001b[1;32m    537\u001b[0m     \u001b[38;5;28;01mfor\u001b[39;00m process \u001b[38;5;129;01min\u001b[39;00m processes:\n\u001b[0;32m--> 538\u001b[0m         \u001b[43mprocess\u001b[49m\u001b[38;5;241;43m.\u001b[39;49m\u001b[43mstart\u001b[49m\u001b[43m(\u001b[49m\u001b[43m)\u001b[49m\n\u001b[1;32m    539\u001b[0m         input_queue\u001b[38;5;241m.\u001b[39mput(\u001b[38;5;28;01mNone\u001b[39;00m)\n\u001b[1;32m    540\u001b[0m     input_queue\u001b[38;5;241m.\u001b[39mjoin()\n",
      "File \u001b[0;32m/opt/miniconda3/envs/iqc_env/lib/python3.12/multiprocessing/process.py:121\u001b[0m, in \u001b[0;36mBaseProcess.start\u001b[0;34m(self)\u001b[0m\n\u001b[1;32m    118\u001b[0m \u001b[38;5;28;01massert\u001b[39;00m \u001b[38;5;129;01mnot\u001b[39;00m _current_process\u001b[38;5;241m.\u001b[39m_config\u001b[38;5;241m.\u001b[39mget(\u001b[38;5;124m'\u001b[39m\u001b[38;5;124mdaemon\u001b[39m\u001b[38;5;124m'\u001b[39m), \\\n\u001b[1;32m    119\u001b[0m        \u001b[38;5;124m'\u001b[39m\u001b[38;5;124mdaemonic processes are not allowed to have children\u001b[39m\u001b[38;5;124m'\u001b[39m\n\u001b[1;32m    120\u001b[0m _cleanup()\n\u001b[0;32m--> 121\u001b[0m \u001b[38;5;28mself\u001b[39m\u001b[38;5;241m.\u001b[39m_popen \u001b[38;5;241m=\u001b[39m \u001b[38;5;28;43mself\u001b[39;49m\u001b[38;5;241;43m.\u001b[39;49m\u001b[43m_Popen\u001b[49m\u001b[43m(\u001b[49m\u001b[38;5;28;43mself\u001b[39;49m\u001b[43m)\u001b[49m\n\u001b[1;32m    122\u001b[0m \u001b[38;5;28mself\u001b[39m\u001b[38;5;241m.\u001b[39m_sentinel \u001b[38;5;241m=\u001b[39m \u001b[38;5;28mself\u001b[39m\u001b[38;5;241m.\u001b[39m_popen\u001b[38;5;241m.\u001b[39msentinel\n\u001b[1;32m    123\u001b[0m \u001b[38;5;66;03m# Avoid a refcycle if the target function holds an indirect\u001b[39;00m\n\u001b[1;32m    124\u001b[0m \u001b[38;5;66;03m# reference to the process object (see bpo-30775)\u001b[39;00m\n",
      "File \u001b[0;32m/opt/miniconda3/envs/iqc_env/lib/python3.12/multiprocessing/context.py:224\u001b[0m, in \u001b[0;36mProcess._Popen\u001b[0;34m(process_obj)\u001b[0m\n\u001b[1;32m    222\u001b[0m \u001b[38;5;129m@staticmethod\u001b[39m\n\u001b[1;32m    223\u001b[0m \u001b[38;5;28;01mdef\u001b[39;00m \u001b[38;5;21m_Popen\u001b[39m(process_obj):\n\u001b[0;32m--> 224\u001b[0m     \u001b[38;5;28;01mreturn\u001b[39;00m \u001b[43m_default_context\u001b[49m\u001b[38;5;241;43m.\u001b[39;49m\u001b[43mget_context\u001b[49m\u001b[43m(\u001b[49m\u001b[43m)\u001b[49m\u001b[38;5;241;43m.\u001b[39;49m\u001b[43mProcess\u001b[49m\u001b[38;5;241;43m.\u001b[39;49m\u001b[43m_Popen\u001b[49m\u001b[43m(\u001b[49m\u001b[43mprocess_obj\u001b[49m\u001b[43m)\u001b[49m\n",
      "File \u001b[0;32m/opt/miniconda3/envs/iqc_env/lib/python3.12/multiprocessing/context.py:289\u001b[0m, in \u001b[0;36mSpawnProcess._Popen\u001b[0;34m(process_obj)\u001b[0m\n\u001b[1;32m    286\u001b[0m \u001b[38;5;129m@staticmethod\u001b[39m\n\u001b[1;32m    287\u001b[0m \u001b[38;5;28;01mdef\u001b[39;00m \u001b[38;5;21m_Popen\u001b[39m(process_obj):\n\u001b[1;32m    288\u001b[0m     \u001b[38;5;28;01mfrom\u001b[39;00m \u001b[38;5;21;01m.\u001b[39;00m\u001b[38;5;21;01mpopen_spawn_posix\u001b[39;00m \u001b[38;5;28;01mimport\u001b[39;00m Popen\n\u001b[0;32m--> 289\u001b[0m     \u001b[38;5;28;01mreturn\u001b[39;00m \u001b[43mPopen\u001b[49m\u001b[43m(\u001b[49m\u001b[43mprocess_obj\u001b[49m\u001b[43m)\u001b[49m\n",
      "File \u001b[0;32m/opt/miniconda3/envs/iqc_env/lib/python3.12/multiprocessing/popen_spawn_posix.py:32\u001b[0m, in \u001b[0;36mPopen.__init__\u001b[0;34m(self, process_obj)\u001b[0m\n\u001b[1;32m     30\u001b[0m \u001b[38;5;28;01mdef\u001b[39;00m \u001b[38;5;21m__init__\u001b[39m(\u001b[38;5;28mself\u001b[39m, process_obj):\n\u001b[1;32m     31\u001b[0m     \u001b[38;5;28mself\u001b[39m\u001b[38;5;241m.\u001b[39m_fds \u001b[38;5;241m=\u001b[39m []\n\u001b[0;32m---> 32\u001b[0m     \u001b[38;5;28;43msuper\u001b[39;49m\u001b[43m(\u001b[49m\u001b[43m)\u001b[49m\u001b[38;5;241;43m.\u001b[39;49m\u001b[38;5;21;43m__init__\u001b[39;49m\u001b[43m(\u001b[49m\u001b[43mprocess_obj\u001b[49m\u001b[43m)\u001b[49m\n",
      "File \u001b[0;32m/opt/miniconda3/envs/iqc_env/lib/python3.12/multiprocessing/popen_fork.py:19\u001b[0m, in \u001b[0;36mPopen.__init__\u001b[0;34m(self, process_obj)\u001b[0m\n\u001b[1;32m     17\u001b[0m \u001b[38;5;28mself\u001b[39m\u001b[38;5;241m.\u001b[39mreturncode \u001b[38;5;241m=\u001b[39m \u001b[38;5;28;01mNone\u001b[39;00m\n\u001b[1;32m     18\u001b[0m \u001b[38;5;28mself\u001b[39m\u001b[38;5;241m.\u001b[39mfinalizer \u001b[38;5;241m=\u001b[39m \u001b[38;5;28;01mNone\u001b[39;00m\n\u001b[0;32m---> 19\u001b[0m \u001b[38;5;28;43mself\u001b[39;49m\u001b[38;5;241;43m.\u001b[39;49m\u001b[43m_launch\u001b[49m\u001b[43m(\u001b[49m\u001b[43mprocess_obj\u001b[49m\u001b[43m)\u001b[49m\n",
      "File \u001b[0;32m/opt/miniconda3/envs/iqc_env/lib/python3.12/multiprocessing/popen_spawn_posix.py:47\u001b[0m, in \u001b[0;36mPopen._launch\u001b[0;34m(self, process_obj)\u001b[0m\n\u001b[1;32m     45\u001b[0m \u001b[38;5;28;01mtry\u001b[39;00m:\n\u001b[1;32m     46\u001b[0m     reduction\u001b[38;5;241m.\u001b[39mdump(prep_data, fp)\n\u001b[0;32m---> 47\u001b[0m     \u001b[43mreduction\u001b[49m\u001b[38;5;241;43m.\u001b[39;49m\u001b[43mdump\u001b[49m\u001b[43m(\u001b[49m\u001b[43mprocess_obj\u001b[49m\u001b[43m,\u001b[49m\u001b[43m \u001b[49m\u001b[43mfp\u001b[49m\u001b[43m)\u001b[49m\n\u001b[1;32m     48\u001b[0m \u001b[38;5;28;01mfinally\u001b[39;00m:\n\u001b[1;32m     49\u001b[0m     set_spawning_popen(\u001b[38;5;28;01mNone\u001b[39;00m)\n",
      "File \u001b[0;32m/opt/miniconda3/envs/iqc_env/lib/python3.12/multiprocessing/reduction.py:60\u001b[0m, in \u001b[0;36mdump\u001b[0;34m(obj, file, protocol)\u001b[0m\n\u001b[1;32m     58\u001b[0m \u001b[38;5;28;01mdef\u001b[39;00m \u001b[38;5;21mdump\u001b[39m(obj, file, protocol\u001b[38;5;241m=\u001b[39m\u001b[38;5;28;01mNone\u001b[39;00m):\n\u001b[1;32m     59\u001b[0m \u001b[38;5;250m    \u001b[39m\u001b[38;5;124;03m'''Replacement for pickle.dump() using ForkingPickler.'''\u001b[39;00m\n\u001b[0;32m---> 60\u001b[0m     \u001b[43mForkingPickler\u001b[49m\u001b[43m(\u001b[49m\u001b[43mfile\u001b[49m\u001b[43m,\u001b[49m\u001b[43m \u001b[49m\u001b[43mprotocol\u001b[49m\u001b[43m)\u001b[49m\u001b[38;5;241;43m.\u001b[39;49m\u001b[43mdump\u001b[49m\u001b[43m(\u001b[49m\u001b[43mobj\u001b[49m\u001b[43m)\u001b[49m\n",
      "\u001b[0;31mAttributeError\u001b[0m: Can't pickle local object 'Space.__init__.<locals>.<lambda>'"
     ]
    }
   ],
   "source": [
    "# run CAFQA\n",
    "\n",
    "# hypermapper changes the standard output to write to log files, so it needs to be\n",
    "# changed back after CAFQA (otherwise printing breaks)\n",
    "\n",
    "stdout = sys.stdout\n",
    "cafqa_energy, cafqa_params = ve.run_cafqa(\n",
    "    n_qubits=N,\n",
    "    coeffs=coeffs,\n",
    "    paulis=paulis,\n",
    "    param_guess=list(guess),\n",
    "    budget=budget,\n",
    "    save_dir=save_dir,\n",
    "    loss_file=loss_file,\n",
    "    params_file=params_file,\n",
    "    vqe_kwargs=vqe_kwargs\n",
    ")\n",
    "sys.stdout = stdout"
   ]
  },
  {
   "cell_type": "code",
   "execution_count": null,
   "metadata": {},
   "outputs": [],
   "source": []
  }
 ],
 "metadata": {
  "kernelspec": {
   "display_name": "research",
   "language": "python",
   "name": "python3"
  },
  "language_info": {
   "codemirror_mode": {
    "name": "ipython",
    "version": 3
   },
   "file_extension": ".py",
   "mimetype": "text/x-python",
   "name": "python",
   "nbconvert_exporter": "python",
   "pygments_lexer": "ipython3",
   "version": "3.12.2"
  }
 },
 "nbformat": 4,
 "nbformat_minor": 2
}
