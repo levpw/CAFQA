{
 "cells": [
  {
   "cell_type": "code",
   "execution_count": 1,
   "metadata": {},
   "outputs": [],
   "source": [
    "import sys\n",
    "sys.path.append(\"../\")\n",
    "import os\n",
    "import vqe_experiment as ve\n",
    "import numpy as np"
   ]
  },
  {
   "cell_type": "code",
   "execution_count": null,
   "metadata": {},
   "outputs": [],
   "source": []
  },
  {
   "cell_type": "code",
   "execution_count": 2,
   "metadata": {},
   "outputs": [],
   "source": [
    "# define Hamiltonian: list of coefficients, list of Paulis, initial bitstring\n",
    "\n",
    "# here: molecular Hamiltonian, parity mapping, two-qubit reduction\n",
    "atom_string = \"Li 0 0 0; H 0 0 2.0\"              # PySCF atom string\n",
    "num_orbitals = 3                                 # number of spatial orbitals\n",
    "coeffs, paulis, HF_bitstring = ve.molecule(atom_string, new_num_orbitals=num_orbitals)"
   ]
  },
  {
   "cell_type": "code",
   "execution_count": 3,
   "metadata": {},
   "outputs": [
    {
     "data": {
      "text/plain": [
       "(array([-5.59396305e+00,  1.61387904e+00, -1.72701988e-02,  1.72701988e-02,\n",
       "        -3.86183811e-02, -3.86183811e-02,  3.90387222e-01,  2.52944297e-01,\n",
       "        -1.13923657e-02,  1.13923657e-02,  1.61387904e+00,  4.14787999e-01,\n",
       "        -2.50295510e-02,  2.50295510e-02, -3.52792774e-02, -3.52792774e-02,\n",
       "        -1.72701988e-02, -2.50295510e-02,  1.72701988e-02,  2.50295510e-02,\n",
       "         2.63398182e-03, -2.63398182e-03, -2.63398182e-03,  2.63398182e-03,\n",
       "         2.65122860e-03, -2.65122860e-03,  2.65122860e-03, -2.65122860e-03,\n",
       "        -3.86183811e-02, -3.52792774e-02, -3.86183811e-02, -3.52792774e-02,\n",
       "         2.65122860e-03,  2.65122860e-03, -2.65122860e-03, -2.65122860e-03,\n",
       "         5.49722197e-03,  5.49722197e-03,  5.49722197e-03,  5.49722197e-03,\n",
       "         3.90387222e-01,  8.14827873e-02,  8.55526893e-04, -8.55526893e-04,\n",
       "        -3.05064421e-03, -3.05064421e-03, -1.13923657e-02,  5.87484994e-03,\n",
       "         1.13923657e-02, -5.87484994e-03, -6.66607492e-04,  6.66607492e-04,\n",
       "         6.66607492e-04, -6.66607492e-04, -2.42624732e-05,  2.42624732e-05,\n",
       "        -2.42624732e-05,  2.42624732e-05,  2.52944297e-01,  9.81927154e-02,\n",
       "        -2.31745007e-03,  2.31745007e-03,  2.88459294e-04,  2.88459294e-04,\n",
       "         8.14827873e-02,  5.87484994e-03, -5.87484994e-03,  8.55526893e-04,\n",
       "        -8.55526893e-04, -6.66607492e-04,  6.66607492e-04,  6.66607492e-04,\n",
       "        -6.66607492e-04, -3.05064421e-03, -3.05064421e-03, -2.42624732e-05,\n",
       "        -2.42624732e-05,  2.42624732e-05,  2.42624732e-05,  1.15069387e-01,\n",
       "        -1.40797741e-02,  1.40797741e-02, -1.40797741e-02,  1.40797741e-02,\n",
       "         4.65515679e-03, -4.65515679e-03, -4.65515679e-03,  4.65515679e-03,\n",
       "         5.37088735e-02,  3.18743063e-03, -3.18743063e-03,  9.81927154e-02,\n",
       "        -2.31745007e-03,  2.31745007e-03,  2.88459294e-04,  2.88459294e-04,\n",
       "         5.37088735e-02,  3.18743063e-03, -3.18743063e-03,  8.29157930e-02,\n",
       "         7.93765816e-01]),\n",
       " array(['IIII', 'ZIII', 'XZII', 'XIII', 'XXII', 'YYII', 'ZZII', 'IZII',\n",
       "        'ZXII', 'IXII', 'IIZI', 'ZIZI', 'XZZI', 'XIZI', 'XXZI', 'YYZI',\n",
       "        'IIXZ', 'ZIXZ', 'IIXI', 'ZIXI', 'XZXZ', 'XZXI', 'XIXZ', 'XIXI',\n",
       "        'XXXZ', 'XXXI', 'YYXZ', 'YYXI', 'IIXX', 'ZIXX', 'IIYY', 'ZIYY',\n",
       "        'XZXX', 'XZYY', 'XIXX', 'XIYY', 'XXXX', 'XXYY', 'YYXX', 'YYYY',\n",
       "        'IIZZ', 'ZIZZ', 'XZZZ', 'XIZZ', 'XXZZ', 'YYZZ', 'IIZX', 'ZIZX',\n",
       "        'IIIX', 'ZIIX', 'XZZX', 'XZIX', 'XIZX', 'XIIX', 'XXZX', 'XXIX',\n",
       "        'YYZX', 'YYIX', 'IIIZ', 'ZIIZ', 'XZIZ', 'XIIZ', 'XXIZ', 'YYIZ',\n",
       "        'ZZZI', 'ZXZI', 'IXZI', 'ZZXZ', 'ZZXI', 'ZXXZ', 'ZXXI', 'IXXZ',\n",
       "        'IXXI', 'ZZXX', 'ZZYY', 'ZXXX', 'ZXYY', 'IXXX', 'IXYY', 'ZZZZ',\n",
       "        'ZXZZ', 'IXZZ', 'ZZZX', 'ZZIX', 'ZXZX', 'ZXIX', 'IXZX', 'IXIX',\n",
       "        'ZZIZ', 'ZXIZ', 'IXIZ', 'IZZI', 'IZXZ', 'IZXI', 'IZXX', 'IZYY',\n",
       "        'IZZZ', 'IZZX', 'IZIX', 'IZIZ', 'IIII'], dtype='<U4'),\n",
       " '1010')"
      ]
     },
     "execution_count": 3,
     "metadata": {},
     "output_type": "execute_result"
    }
   ],
   "source": [
    "coeffs, paulis, HF_bitstring"
   ]
  },
  {
   "cell_type": "code",
   "execution_count": 4,
   "metadata": {},
   "outputs": [],
   "source": [
    "# number of qubits\n",
    "N = len(paulis[0])"
   ]
  },
  {
   "cell_type": "code",
   "execution_count": null,
   "metadata": {},
   "outputs": [],
   "source": []
  },
  {
   "cell_type": "code",
   "execution_count": 5,
   "metadata": {},
   "outputs": [],
   "source": [
    "# configure underlying VQE structure, passed as keyword argument dictionary\n",
    "\n",
    "# a function which returns a parameterized Qiskit circuit (ansatz) and the number of parameters\n",
    "ansatz_func = ve.efficientsu2_full\n",
    "ansatz_reps = 1\n",
    "# if True, the initial HF_bitstring will be appended after ansatz (layer of X gates where there are 1s)\n",
    "# if False, HF_bitstring will be initialized before ansatz\n",
    "init_last = False\n",
    "\n",
    "vqe_kwargs = {\n",
    "    \"ansatz_func\": ansatz_func,\n",
    "    \"ansatz_reps\": ansatz_reps,\n",
    "    \"init_last\": init_last,\n",
    "    \"HF_bitstring\": HF_bitstring\n",
    "}"
   ]
  },
  {
   "cell_type": "code",
   "execution_count": 6,
   "metadata": {},
   "outputs": [
    {
     "name": "stdout",
     "output_type": "stream",
     "text": [
      "16\n"
     ]
    }
   ],
   "source": [
    "ansatz, num_params = ansatz_func(N, ansatz_reps)\n",
    "print(num_params)"
   ]
  },
  {
   "cell_type": "code",
   "execution_count": 7,
   "metadata": {},
   "outputs": [
    {
     "data": {
      "text/html": [
       "<pre style=\"word-wrap: normal;white-space: pre;background: #fff0;line-height: 1.1;font-family: &quot;Courier New&quot;,Courier,monospace\">     ┌──────────┐┌──────────┐ ░                                ░  ┌──────────┐┌───────────┐\n",
       "q_0: ┤ Ry(θ[0]) ├┤ Rz(θ[4]) ├─░───■────■────■──────────────────░──┤ Ry(θ[8]) ├┤ Rz(θ[12]) ├\n",
       "     ├──────────┤├──────────┤ ░ ┌─┴─┐  │    │                  ░  ├──────────┤├───────────┤\n",
       "q_1: ┤ Ry(θ[1]) ├┤ Rz(θ[5]) ├─░─┤ X ├──┼────┼────■────■────────░──┤ Ry(θ[9]) ├┤ Rz(θ[13]) ├\n",
       "     ├──────────┤├──────────┤ ░ └───┘┌─┴─┐  │  ┌─┴─┐  │        ░ ┌┴──────────┤├───────────┤\n",
       "q_2: ┤ Ry(θ[2]) ├┤ Rz(θ[6]) ├─░──────┤ X ├──┼──┤ X ├──┼────■───░─┤ Ry(θ[10]) ├┤ Rz(θ[14]) ├\n",
       "     ├──────────┤├──────────┤ ░      └───┘┌─┴─┐└───┘┌─┴─┐┌─┴─┐ ░ ├───────────┤├───────────┤\n",
       "q_3: ┤ Ry(θ[3]) ├┤ Rz(θ[7]) ├─░───────────┤ X ├─────┤ X ├┤ X ├─░─┤ Ry(θ[11]) ├┤ Rz(θ[15]) ├\n",
       "     └──────────┘└──────────┘ ░           └───┘     └───┘└───┘ ░ └───────────┘└───────────┘</pre>"
      ],
      "text/plain": [
       "     ┌──────────┐┌──────────┐ ░                                ░  ┌──────────┐┌───────────┐\n",
       "q_0: ┤ Ry(θ[0]) ├┤ Rz(θ[4]) ├─░───■────■────■──────────────────░──┤ Ry(θ[8]) ├┤ Rz(θ[12]) ├\n",
       "     ├──────────┤├──────────┤ ░ ┌─┴─┐  │    │                  ░  ├──────────┤├───────────┤\n",
       "q_1: ┤ Ry(θ[1]) ├┤ Rz(θ[5]) ├─░─┤ X ├──┼────┼────■────■────────░──┤ Ry(θ[9]) ├┤ Rz(θ[13]) ├\n",
       "     ├──────────┤├──────────┤ ░ └───┘┌─┴─┐  │  ┌─┴─┐  │        ░ ┌┴──────────┤├───────────┤\n",
       "q_2: ┤ Ry(θ[2]) ├┤ Rz(θ[6]) ├─░──────┤ X ├──┼──┤ X ├──┼────■───░─┤ Ry(θ[10]) ├┤ Rz(θ[14]) ├\n",
       "     ├──────────┤├──────────┤ ░      └───┘┌─┴─┐└───┘┌─┴─┐┌─┴─┐ ░ ├───────────┤├───────────┤\n",
       "q_3: ┤ Ry(θ[3]) ├┤ Rz(θ[7]) ├─░───────────┤ X ├─────┤ X ├┤ X ├─░─┤ Ry(θ[11]) ├┤ Rz(θ[15]) ├\n",
       "     └──────────┘└──────────┘ ░           └───┘     └───┘└───┘ ░ └───────────┘└───────────┘"
      ]
     },
     "execution_count": 7,
     "metadata": {},
     "output_type": "execute_result"
    }
   ],
   "source": [
    "ansatz.draw(fold=-1)"
   ]
  },
  {
   "cell_type": "code",
   "execution_count": null,
   "metadata": {},
   "outputs": [],
   "source": []
  },
  {
   "cell_type": "markdown",
   "metadata": {},
   "source": [
    "CAFQA parameters are represented by a list $[x_0, x_1, x_2, ...]$ where $x_i$ parametrizes the $i$-th gate in the ansatz and can only take the discrete values $\\{0,1,2,3\\}$. Typically the parameterized gates are rotation gates, $R_y$ or $R_z$, so that $x_i$ corresponds to a rotation angle $x_i \\cdot \\pi/2$."
   ]
  },
  {
   "cell_type": "code",
   "execution_count": 8,
   "metadata": {},
   "outputs": [
    {
     "data": {
      "text/plain": [
       "[3, 1, 1, 1, 1, 3, 3, 1, 1, 0, 2, 1, 1, 1, 1, 3]"
      ]
     },
     "execution_count": 8,
     "metadata": {},
     "output_type": "execute_result"
    }
   ],
   "source": [
    "# configure algorithm\n",
    "\n",
    "budget = 100                                                 # number of iterations\n",
    "guess = list(map(int, np.random.randint(0, 4, num_params)))  # initial param guess\n",
    "guess"
   ]
  },
  {
   "cell_type": "code",
   "execution_count": 9,
   "metadata": {},
   "outputs": [],
   "source": [
    "# get VQE circuit guess parameters (* pi/2)\n",
    "qc = ve.vqe_circuit(\n",
    "    N, \n",
    "    np.array(guess)*np.pi/2, \n",
    "    paulis, \n",
    "    ansatz_func=ansatz_func, \n",
    "    ansatz_reps=ansatz_reps, \n",
    "    init_last=init_last,\n",
    "    HF_bitstring=HF_bitstring\n",
    "    )"
   ]
  },
  {
   "cell_type": "code",
   "execution_count": 10,
   "metadata": {},
   "outputs": [
    {
     "data": {
      "text/html": [
       "<pre style=\"word-wrap: normal;white-space: pre;background: #fff0;line-height: 1.1;font-family: &quot;Courier New&quot;,Courier,monospace\">         ┌───┐   ┌──────────┐┌─────────┐  ░                                ░ ┌─────────┐┌─────────┐ \n",
       "q1_0: ───┤ X ├───┤ Ry(3π/2) ├┤ Rz(π/2) ├──░───■────■────■──────────────────░─┤ Ry(π/2) ├┤ Rz(π/2) ├─\n",
       "      ┌──┴───┴──┐├──────────┤└─────────┘  ░ ┌─┴─┐  │    │                  ░ └┬───────┬┘├─────────┤ \n",
       "q1_1: ┤ Ry(π/2) ├┤ Rz(3π/2) ├─────────────░─┤ X ├──┼────┼────■────■────────░──┤ Ry(0) ├─┤ Rz(π/2) ├─\n",
       "      └──┬───┬──┘├─────────┬┘┌──────────┐ ░ └───┘┌─┴─┐  │  ┌─┴─┐  │        ░  ├───────┤ ├─────────┤ \n",
       "q1_2: ───┤ X ├───┤ Ry(π/2) ├─┤ Rz(3π/2) ├─░──────┤ X ├──┼──┤ X ├──┼────■───░──┤ Ry(π) ├─┤ Rz(π/2) ├─\n",
       "      ┌──┴───┴──┐├─────────┤ └──────────┘ ░      └───┘┌─┴─┐└───┘┌─┴─┐┌─┴─┐ ░ ┌┴───────┴┐├─────────┴┐\n",
       "q1_3: ┤ Ry(π/2) ├┤ Rz(π/2) ├──────────────░───────────┤ X ├─────┤ X ├┤ X ├─░─┤ Ry(π/2) ├┤ Rz(3π/2) ├\n",
       "      └─────────┘└─────────┘              ░           └───┘     └───┘└───┘ ░ └─────────┘└──────────┘\n",
       "c0: 4/══════════════════════════════════════════════════════════════════════════════════════════════\n",
       "                                                                                                    </pre>"
      ],
      "text/plain": [
       "         ┌───┐   ┌──────────┐┌─────────┐  ░                                ░ ┌─────────┐┌─────────┐ \n",
       "q1_0: ───┤ X ├───┤ Ry(3π/2) ├┤ Rz(π/2) ├──░───■────■────■──────────────────░─┤ Ry(π/2) ├┤ Rz(π/2) ├─\n",
       "      ┌──┴───┴──┐├──────────┤└─────────┘  ░ ┌─┴─┐  │    │                  ░ └┬───────┬┘├─────────┤ \n",
       "q1_1: ┤ Ry(π/2) ├┤ Rz(3π/2) ├─────────────░─┤ X ├──┼────┼────■────■────────░──┤ Ry(0) ├─┤ Rz(π/2) ├─\n",
       "      └──┬───┬──┘├─────────┬┘┌──────────┐ ░ └───┘┌─┴─┐  │  ┌─┴─┐  │        ░  ├───────┤ ├─────────┤ \n",
       "q1_2: ───┤ X ├───┤ Ry(π/2) ├─┤ Rz(3π/2) ├─░──────┤ X ├──┼──┤ X ├──┼────■───░──┤ Ry(π) ├─┤ Rz(π/2) ├─\n",
       "      ┌──┴───┴──┐├─────────┤ └──────────┘ ░      └───┘┌─┴─┐└───┘┌─┴─┐┌─┴─┐ ░ ┌┴───────┴┐├─────────┴┐\n",
       "q1_3: ┤ Ry(π/2) ├┤ Rz(π/2) ├──────────────░───────────┤ X ├─────┤ X ├┤ X ├─░─┤ Ry(π/2) ├┤ Rz(3π/2) ├\n",
       "      └─────────┘└─────────┘              ░           └───┘     └───┘└───┘ ░ └─────────┘└──────────┘\n",
       "c0: 4/══════════════════════════════════════════════════════════════════════════════════════════════\n",
       "                                                                                                    "
      ]
     },
     "execution_count": 10,
     "metadata": {},
     "output_type": "execute_result"
    }
   ],
   "source": [
    "qc.draw(fold=-1)"
   ]
  },
  {
   "cell_type": "code",
   "execution_count": 11,
   "metadata": {},
   "outputs": [],
   "source": [
    "# configure output\n",
    "\n",
    "save_dir = \"cafqa_example_out/\"\n",
    "os.system(f\"mkdir -p {save_dir}\")\n",
    "# the output files are relative to save_dir\n",
    "result_file = \"result.txt\"\n",
    "loss_file = \"cafqa_loss.txt\"\n",
    "params_file = \"cafqa_params.txt\""
   ]
  },
  {
   "cell_type": "code",
   "execution_count": null,
   "metadata": {},
   "outputs": [],
   "source": []
  },
  {
   "cell_type": "code",
   "execution_count": 12,
   "metadata": {},
   "outputs": [
    {
     "name": "stdout",
     "output_type": "stream",
     "text": [
      "Design of experiment phase, number of new doe samples = 100 .......\n",
      "Loss computed by CAFQA VQE is -4.76339385879937, in 0.05460954099999782 s.\n",
      "Loss computed by CAFQA VQE is -4.7966851504455885, in 0.04131854199999907 s.\n",
      "Loss computed by CAFQA VQE is -4.991349030109287, in 0.04611720800000185 s.\n",
      "Loss computed by CAFQA VQE is -4.843937726263331, in 0.03785404199999931 s.\n",
      "Loss computed by CAFQA VQE is -6.43043486417881, in 0.03316091700000001 s.\n",
      "Loss computed by CAFQA VQE is -5.013861735218722, in 0.03588970799999913 s.\n",
      "Loss computed by CAFQA VQE is -3.0307483515954625, in 0.029166082999999787 s.\n",
      "Loss computed by CAFQA VQE is -4.79690901007773, in 0.04852725000000291 s.\n",
      "Loss computed by CAFQA VQE is -4.854826580768879, in 0.03959516600000157 s.\n",
      "Loss computed by CAFQA VQE is -4.712639406672185, in 0.04047479200000126 s.\n",
      "Loss computed by CAFQA VQE is -4.967417701721457, in 0.03804745900000128 s.\n",
      "Loss computed by CAFQA VQE is -3.18355600728451, in 0.036244583000001995 s.\n",
      "Loss computed by CAFQA VQE is -4.9743918328054715, in 0.03647112500000205 s.\n",
      "Loss computed by CAFQA VQE is -7.5280832971921345, in 0.031214375000001127 s.\n",
      "Loss computed by CAFQA VQE is -5.155016716701445, in 0.03423700000000096 s.\n",
      "Loss computed by CAFQA VQE is -5.214985229908951, in 0.033217249999999865 s.\n",
      "Loss computed by CAFQA VQE is -4.5554578583104846, in 0.041072417000002304 s.\n",
      "Loss computed by CAFQA VQE is -6.311167764832657, in 0.03182550000000006 s.\n",
      "Loss computed by CAFQA VQE is -4.646259518307112, in 0.03704254099999815 s.\n",
      "Loss computed by CAFQA VQE is -6.428904099300455, in 0.037871834000000604 s.\n",
      "Loss computed by CAFQA VQE is -2.8351811798550175, in 0.029810916999998938 s.\n",
      "Loss computed by CAFQA VQE is -4.8381476575782365, in 0.03779920799999914 s.\n",
      "Loss computed by CAFQA VQE is -4.850232240319777, in 0.039125792000000104 s.\n",
      "Loss computed by CAFQA VQE is -5.004560591879274, in 0.036543249999997585 s.\n",
      "Loss computed by CAFQA VQE is -4.585582855890763, in 0.03607916700000047 s.\n",
      "Loss computed by CAFQA VQE is -4.7777220795493225, in 0.04343637499999886 s.\n",
      "Loss computed by CAFQA VQE is -4.7617473557782315, in 0.036999999999999034 s.\n",
      "Loss computed by CAFQA VQE is -5.028967503961576, in 0.03533408299999863 s.\n",
      "Loss computed by CAFQA VQE is -3.175425848687954, in 0.037606666999998595 s.\n",
      "Loss computed by CAFQA VQE is -3.5265579619883503, in 0.042645290999999474 s.\n",
      "Loss computed by CAFQA VQE is -4.539047999044939, in 0.040560041999999186 s.\n",
      "Loss computed by CAFQA VQE is -4.781120852035912, in 0.04085229200000029 s.\n",
      "Loss computed by CAFQA VQE is -6.4107371662404375, in 0.03594379199999764 s.\n",
      "Loss computed by CAFQA VQE is -5.082526511217289, in 0.041923749999998705 s.\n",
      "Loss computed by CAFQA VQE is -3.5265579619883503, in 0.042247333999998915 s.\n",
      "Loss computed by CAFQA VQE is -4.787639591326814, in 0.03967012500000067 s.\n",
      "Loss computed by CAFQA VQE is -6.25932468835955, in 0.031702334000002 s.\n",
      "Loss computed by CAFQA VQE is -4.855910032791485, in 0.04024533300000144 s.\n",
      "Loss computed by CAFQA VQE is -4.874906255548938, in 0.0388068749999988 s.\n",
      "Loss computed by CAFQA VQE is -4.368140983302949, in 0.04230154200000058 s.\n",
      "Loss computed by CAFQA VQE is -4.350700760006157, in 0.03961883399999877 s.\n",
      "Loss computed by CAFQA VQE is -4.3933953366422, in 0.041500500000001495 s.\n",
      "Loss computed by CAFQA VQE is -4.804852387873826, in 0.038835082999998605 s.\n",
      "Loss computed by CAFQA VQE is -4.820957740474736, in 0.04322829199999845 s.\n",
      "Loss computed by CAFQA VQE is -4.555457869169629, in 0.036733166999997735 s.\n",
      "Loss computed by CAFQA VQE is -4.836840604288382, in 0.041153791999999356 s.\n",
      "Loss computed by CAFQA VQE is -6.440248630002815, in 0.03556483300000224 s.\n",
      "Loss computed by CAFQA VQE is -7.52547782033969, in 0.03325316699999803 s.\n",
      "Loss computed by CAFQA VQE is -5.335718227344719, in 0.042970208999999926 s.\n",
      "Loss computed by CAFQA VQE is -4.808896795134114, in 0.04210883400000043 s.\n",
      "Loss computed by CAFQA VQE is -3.228617942027165, in 0.03719758400000117 s.\n",
      "Loss computed by CAFQA VQE is -4.497540298478482, in 0.03603408300000055 s.\n",
      "Loss computed by CAFQA VQE is -4.958204642930815, in 0.03621416599999705 s.\n",
      "Loss computed by CAFQA VQE is -4.4514790338793, in 0.04029745799999773 s.\n",
      "Loss computed by CAFQA VQE is -4.850232240319777, in 0.03696920799999859 s.\n",
      "Loss computed by CAFQA VQE is -4.804852387873826, in 0.045233833999997586 s.\n",
      "Loss computed by CAFQA VQE is -4.809578836504189, in 0.03704962500000164 s.\n",
      "Loss computed by CAFQA VQE is -5.193998322680427, in 0.04394733299999842 s.\n",
      "Loss computed by CAFQA VQE is -6.729658912595577, in 0.035569625000000826 s.\n",
      "Loss computed by CAFQA VQE is -6.551519184616877, in 0.04442929200000023 s.\n",
      "Loss computed by CAFQA VQE is -6.432119413024424, in 0.039204125000001255 s.\n",
      "Loss computed by CAFQA VQE is -4.527665285199616, in 0.04518833299999869 s.\n",
      "Loss computed by CAFQA VQE is -4.6133754398607785, in 0.03794795800000017 s.\n",
      "Loss computed by CAFQA VQE is -4.741657422564639, in 0.04113804099999996 s.\n",
      "Loss computed by CAFQA VQE is -3.526557961988351, in 0.0352168749999997 s.\n",
      "Loss computed by CAFQA VQE is -4.613375428786902, in 0.040988041999998615 s.\n",
      "Loss computed by CAFQA VQE is -2.714448182419248, in 0.04054683400000059 s.\n",
      "Loss computed by CAFQA VQE is -5.353568425557949, in 0.036964499999999845 s.\n",
      "Loss computed by CAFQA VQE is -2.438975015652846, in 0.029599167000000648 s.\n",
      "Loss computed by CAFQA VQE is -6.311167764832659, in 0.043497582999997064 s.\n",
      "Loss computed by CAFQA VQE is -5.441987020684074, in 0.035989541999999375 s.\n",
      "Loss computed by CAFQA VQE is -6.287565673544874, in 0.0323936670000009 s.\n",
      "Loss computed by CAFQA VQE is -4.527665285199616, in 0.03358349999999888 s.\n",
      "Loss computed by CAFQA VQE is -4.8123988943980205, in 0.04355191700000205 s.\n",
      "Loss computed by CAFQA VQE is -6.493423840366869, in 0.04144733400000078 s.\n",
      "Loss computed by CAFQA VQE is -3.1124205337639577, in 0.03550866599999836 s.\n",
      "Loss computed by CAFQA VQE is -4.508923012323805, in 0.04249237499999836 s.\n",
      "Loss computed by CAFQA VQE is -2.835181179855018, in 0.037109041000000786 s.\n",
      "Loss computed by CAFQA VQE is -3.658188201981447, in 0.03308566699999815 s.\n",
      "Loss computed by CAFQA VQE is -4.5230789100159345, in 0.03573541600000141 s.\n",
      "Loss computed by CAFQA VQE is -4.435282148418375, in 0.05012837499999989 s.\n",
      "Loss computed by CAFQA VQE is -4.0441620574958925, in 0.029419042000000672 s.\n",
      "Loss computed by CAFQA VQE is -3.701239038134489, in 0.043111208999999207 s.\n",
      "Loss computed by CAFQA VQE is -4.751329213111777, in 0.03401116700000273 s.\n",
      "Loss computed by CAFQA VQE is -6.105171834763002, in 0.03811925000000116 s.\n",
      "Loss computed by CAFQA VQE is -2.835181179855018, in 0.03820966700000028 s.\n",
      "Loss computed by CAFQA VQE is -3.00664268953572, in 0.03555308400000001 s.\n",
      "Loss computed by CAFQA VQE is -4.583394411844106, in 0.04853979199999969 s.\n",
      "Loss computed by CAFQA VQE is -4.826739392200954, in 0.0374147090000001 s.\n",
      "Loss computed by CAFQA VQE is -4.750895416199958, in 0.042313290999999253 s.\n",
      "Loss computed by CAFQA VQE is -6.303975273360418, in 0.03833766700000041 s.\n",
      "Loss computed by CAFQA VQE is -6.400384105709261, in 0.034001667000001845 s.\n",
      "Loss computed by CAFQA VQE is -4.688067064411664, in 0.037279250000000985 s.\n",
      "Loss computed by CAFQA VQE is -3.34958383559943, in 0.03464133299999972 s.\n",
      "Loss computed by CAFQA VQE is -5.062515823333687, in 0.04030779199999657 s.\n",
      "Loss computed by CAFQA VQE is -4.801920118349116, in 0.03953487500000108 s.\n",
      "Loss computed by CAFQA VQE is -6.405160518109257, in 0.03903679199999743 s.\n",
      "Loss computed by CAFQA VQE is -4.5668405830149545, in 0.039786041999999355 s.\n",
      "Loss computed by CAFQA VQE is -4.9124373686138245, in 0.03177237499999919 s.\n",
      "Loss computed by CAFQA VQE is -5.216855819880907, in 0.042432708999999846 s.\n",
      "x0,x1,x2,x3,x4,x5,x6,x7,x8,x9,x10,x11,x12,x13,x14,x15,value,Timestamp\n",
      "3,1,1,1,1,3,3,1,1,0,2,1,1,1,1,3,-4.76339385879937,72\n",
      "0,1,0,0,3,2,3,0,1,2,3,3,1,2,3,3,-4.7966851504455885,119\n",
      "1,1,2,1,0,1,2,0,3,3,3,3,2,2,0,3,-4.991349030109287,167\n",
      "0,2,3,1,0,3,0,2,3,2,2,1,0,3,2,2,-4.843937726263331,206\n",
      "0,0,0,1,1,1,3,0,3,1,0,2,2,1,0,0,-6.43043486417881,240\n",
      "0,2,1,0,2,3,2,2,3,2,3,2,1,0,0,2,-5.013861735218722,278\n",
      "0,2,2,2,2,0,0,2,2,0,3,0,0,0,3,1,-3.0307483515954625,308\n",
      "3,3,3,3,1,1,3,1,3,3,1,3,1,1,0,2,-4.79690901007773,358\n",
      "0,2,1,3,0,2,1,3,3,3,2,2,2,0,2,2,-4.854826580768879,399\n",
      "3,1,1,2,1,1,3,0,3,0,1,0,2,1,1,3,-4.712639406672185,441\n",
      "0,2,1,3,1,1,3,2,1,2,2,0,2,1,1,2,-4.967417701721457,481\n",
      "2,3,1,0,3,2,0,1,0,0,2,3,3,2,3,1,-3.18355600728451,518\n",
      "0,0,0,3,2,2,3,3,3,0,3,3,0,1,3,2,-4.9743918328054715,556\n",
      "0,0,2,2,2,2,1,3,0,0,2,1,3,1,1,0,-7.5280832971921345,589\n",
      "1,0,3,0,0,2,2,0,1,0,2,0,1,3,1,2,-5.155016716701445,624\n",
      "2,0,2,2,2,0,3,0,0,3,2,3,3,2,0,3,-5.214985229908951,658\n",
      "1,3,2,2,3,3,3,3,3,3,2,2,2,1,1,0,-4.5554578583104846,701\n",
      "0,0,2,0,3,2,1,1,0,0,3,3,2,3,1,0,-6.311167764832657,734\n",
      "3,3,1,0,3,3,2,1,2,0,0,2,1,1,3,3,-4.646259518307112,772\n",
      "0,3,0,3,3,3,3,1,0,1,3,2,3,3,0,1,-6.428904099300455,811\n",
      "2,0,0,0,2,0,3,1,3,0,2,3,0,0,0,1,-2.8351811798550175,842\n",
      "1,3,0,1,1,2,1,0,2,0,1,0,1,1,2,2,-4.8381476575782365,882\n",
      "0,2,1,2,3,1,0,3,1,3,0,3,1,1,1,2,-4.850232240319777,922\n",
      "3,3,3,2,1,3,3,2,0,0,2,2,0,1,0,1,-5.004560591879274,960\n",
      "2,2,3,2,0,0,3,2,1,2,1,0,0,1,1,2,-4.585582855890763,997\n",
      "1,3,0,1,3,1,2,1,1,3,0,3,1,2,3,0,-4.7777220795493225,1042\n",
      "3,2,0,3,2,1,3,2,0,3,1,0,0,0,1,2,-4.7617473557782315,1080\n",
      "3,3,2,2,2,0,3,3,1,0,0,0,0,3,2,1,-5.028967503961576,1117\n",
      "2,3,1,2,0,2,1,1,0,3,2,0,2,1,3,3,-3.175425848687954,1156\n",
      "0,3,1,3,3,3,1,2,2,1,2,1,3,1,1,0,-3.5265579619883503,1200\n",
      "3,0,1,1,1,0,3,2,2,3,0,1,0,2,1,2,-4.539047999044939,1242\n",
      "0,1,2,3,3,2,3,3,3,2,3,0,3,2,3,3,-4.781120852035912,1284\n",
      "1,2,0,2,0,0,0,2,2,3,2,3,1,1,1,1,-6.4107371662404375,1321\n",
      "3,3,1,3,2,2,1,0,0,2,0,3,1,1,1,1,-5.082526511217289,1364\n",
      "2,1,1,3,1,3,3,2,0,3,0,1,2,3,2,1,-3.5265579619883503,1408\n",
      "3,3,3,0,1,1,3,1,2,0,0,3,1,3,2,2,-4.787639591326814,1449\n",
      "0,1,0,2,0,0,1,1,0,2,3,0,3,3,2,1,-6.25932468835955,1482\n",
      "3,1,1,1,2,3,0,3,2,1,0,0,3,2,0,3,-4.855910032791485,1524\n",
      "3,0,1,0,1,1,3,0,3,1,3,0,0,3,2,3,-4.874906255548938,1564\n",
      "1,2,0,3,2,1,2,1,2,0,3,3,2,1,1,0,-4.368140983302949,1607\n",
      "1,1,2,3,2,1,0,0,2,0,2,1,1,1,2,0,-4.350700760006157,1649\n",
      "3,1,3,2,2,1,2,0,3,1,0,3,0,2,0,0,-4.3933953366422,1691\n",
      "3,2,1,2,0,3,2,3,3,0,0,1,3,0,3,2,-4.804852387873826,1732\n",
      "2,3,1,2,1,1,1,3,3,0,3,3,1,1,0,3,-4.820957740474736,1776\n",
      "0,2,1,2,3,0,1,3,1,0,3,0,2,2,1,3,-4.555457869169629,1814\n",
      "3,1,0,2,3,3,2,0,2,1,3,1,3,0,3,2,-4.836840604288382,1856\n",
      "2,0,1,0,2,0,1,1,2,3,1,0,1,0,3,2,-6.440248630002815,1893\n",
      "2,0,2,2,3,1,0,0,2,1,2,1,2,0,0,2,-7.52547782033969,1928\n",
      "0,3,3,3,0,1,0,2,2,1,1,3,0,1,2,2,-5.335718227344719,1972\n",
      "1,0,1,1,1,1,3,1,1,3,2,2,1,1,1,0,-4.808896795134114,2015\n",
      "1,2,2,0,0,2,2,3,2,3,2,3,0,1,2,2,-3.228617942027165,2054\n",
      "2,2,2,0,1,1,0,2,3,2,1,3,0,3,2,0,-4.497540298478482,2091\n",
      "1,1,0,3,1,1,1,1,0,2,2,0,3,0,2,2,-4.958204642930815,2129\n",
      "3,0,1,3,2,3,1,1,3,1,0,3,0,0,0,0,-4.4514790338793,2170\n",
      "3,0,1,3,1,2,1,3,1,0,0,0,3,0,1,3,-4.850232240319777,2208\n",
      "3,2,3,1,3,0,3,1,1,1,1,1,2,1,0,0,-4.804852387873826,2255\n",
      "3,3,0,0,1,1,3,1,3,0,0,3,1,3,0,3,-4.809578836504189,2293\n",
      "1,3,1,2,0,2,1,3,3,3,0,2,1,1,3,3,-5.193998322680427,2338\n",
      "2,0,3,0,1,1,2,3,2,1,2,0,3,3,3,3,-6.729658912595577,2375\n",
      "3,2,1,3,3,0,2,2,0,3,1,3,2,2,2,3,-6.551519184616877,2421\n",
      "0,3,2,1,2,0,1,1,0,3,3,2,2,1,3,2,-6.432119413024424,2462\n",
      "2,3,3,3,3,1,3,2,3,2,3,3,2,0,0,1,-4.527665285199616,2508\n",
      "2,0,0,1,0,2,2,1,3,0,3,3,3,2,2,3,-4.6133754398607785,2547\n",
      "1,0,1,3,1,3,1,2,0,3,1,2,0,3,1,1,-4.741657422564639,2590\n",
      "2,2,1,0,2,1,2,0,0,0,3,3,1,0,1,1,-3.526557961988351,2626\n",
      "1,3,3,1,2,0,3,0,0,1,0,3,2,3,0,3,-4.613375428786902,2668\n",
      "1,2,2,2,2,1,3,3,1,1,2,1,0,3,1,0,-2.714448182419248,2710\n",
      "0,2,1,2,0,1,0,3,1,2,1,1,2,0,1,0,-5.353568425557949,2749\n",
      "0,2,1,1,1,0,2,0,2,0,0,0,1,0,0,2,-2.438975015652846,2779\n",
      "2,1,1,3,3,1,0,0,3,0,1,3,3,1,1,2,-6.311167764832659,2824\n",
      "0,0,3,1,0,2,1,1,3,0,1,2,0,0,2,1,-5.441987020684074,2861\n",
      "0,0,0,3,1,1,3,0,0,0,1,2,3,1,2,3,-6.287565673544874,2895\n",
      "1,0,2,0,0,1,0,2,1,0,1,0,2,1,0,1,-4.527665285199616,2930\n",
      "0,3,1,2,2,3,3,0,1,3,3,3,1,3,0,1,-4.8123988943980205,2975\n",
      "2,1,3,1,2,3,3,0,2,1,0,1,2,0,1,2,-6.493423840366869,3017\n",
      "0,0,0,3,3,2,2,3,1,1,2,2,3,1,0,0,-3.1124205337639577,3054\n",
      "3,0,3,3,3,3,2,0,2,1,2,1,2,3,2,3,-4.508923012323805,3098\n",
      "0,3,0,3,0,2,3,0,2,0,3,1,3,2,3,3,-2.835181179855018,3136\n",
      "3,0,2,0,3,0,2,1,2,0,0,3,3,1,1,1,-3.658188201981447,3171\n",
      "3,3,2,2,2,2,0,1,0,0,1,2,0,3,2,0,-4.5230789100159345,3208\n",
      "1,3,2,2,2,3,3,1,3,3,3,3,3,2,0,2,-4.435282148418375,3259\n",
      "0,0,0,2,1,0,2,2,3,0,2,2,3,3,0,0,-4.0441620574958925,3290\n",
      "0,3,1,3,3,2,3,1,2,1,3,2,1,0,3,1,-3.701239038134489,3334\n",
      "0,2,0,3,2,2,1,3,2,0,2,3,3,2,3,0,-4.751329213111777,3369\n",
      "3,2,1,3,3,2,0,0,2,0,1,0,1,2,1,1,-6.105171834763002,3409\n",
      "0,1,3,3,3,1,2,0,2,0,0,1,1,0,2,1,-2.835181179855018,3450\n",
      "0,1,2,1,0,2,0,3,2,1,3,0,0,0,0,2,-3.00664268953572,3487\n",
      "1,1,3,1,2,2,1,1,1,3,3,2,1,3,1,2,-4.583394411844106,3537\n",
      "1,0,1,3,1,1,1,3,0,3,2,0,3,0,2,0,-4.826739392200954,3575\n",
      "1,3,0,3,3,2,0,1,0,3,2,1,2,3,2,3,-4.750895416199958,3619\n",
      "0,1,1,3,0,3,1,2,0,1,0,3,3,3,0,0,-6.303975273360418,3659\n",
      "0,0,0,3,3,0,1,1,3,1,0,2,0,1,2,3,-6.400384105709261,3694\n",
      "1,1,0,2,3,0,3,0,0,3,3,1,2,0,0,0,-4.688067064411664,3733\n",
      "0,1,2,0,2,1,0,1,2,2,2,3,1,1,0,2,-3.34958383559943,3768\n",
      "1,2,2,0,3,0,3,2,1,3,1,2,1,1,1,3,-5.062515823333687,3810\n",
      "2,1,2,3,0,2,3,3,1,1,0,0,2,1,3,3,-4.801920118349116,3851\n",
      "2,3,3,1,0,0,0,3,2,1,2,3,0,2,0,1,-6.405160518109257,3891\n",
      "2,2,3,1,3,0,3,2,1,2,2,2,3,1,3,3,-4.5668405830149545,3932\n",
      "1,1,2,1,2,0,0,0,0,0,2,0,0,3,0,2,-4.9124373686138245,3965\n",
      "1,3,1,2,0,0,0,3,1,1,2,1,1,0,1,2,-5.216855819880907,4009\n",
      "\n",
      "\n",
      "End of doe/resume phase, the number of evaluated configurations is: 100\n",
      "\n",
      "Starting optimization iteration 1\n"
     ]
    },
    {
     "ename": "AttributeError",
     "evalue": "Can't pickle local object 'Space.__init__.<locals>.<lambda>'",
     "output_type": "error",
     "traceback": [
      "\u001b[0;31m---------------------------------------------------------------------------\u001b[0m",
      "\u001b[0;31mAttributeError\u001b[0m                            Traceback (most recent call last)",
      "Cell \u001b[0;32mIn[12], line 6\u001b[0m\n\u001b[1;32m      1\u001b[0m \u001b[38;5;66;03m# run CAFQA\u001b[39;00m\n\u001b[1;32m      2\u001b[0m \n\u001b[1;32m      3\u001b[0m \u001b[38;5;66;03m# hypermapper changes the standard output to write to log files, so it needs to be\u001b[39;00m\n\u001b[1;32m      4\u001b[0m \u001b[38;5;66;03m# changed back after CAFQA (otherwise printing breaks)\u001b[39;00m\n\u001b[1;32m      5\u001b[0m stdout \u001b[38;5;241m=\u001b[39m sys\u001b[38;5;241m.\u001b[39mstdout\n\u001b[0;32m----> 6\u001b[0m cafqa_energy, cafqa_params \u001b[38;5;241m=\u001b[39m \u001b[43mve\u001b[49m\u001b[38;5;241;43m.\u001b[39;49m\u001b[43mrun_cafqa\u001b[49m\u001b[43m(\u001b[49m\n\u001b[1;32m      7\u001b[0m \u001b[43m    \u001b[49m\u001b[43mn_qubits\u001b[49m\u001b[38;5;241;43m=\u001b[39;49m\u001b[43mN\u001b[49m\u001b[43m,\u001b[49m\n\u001b[1;32m      8\u001b[0m \u001b[43m    \u001b[49m\u001b[43mcoeffs\u001b[49m\u001b[38;5;241;43m=\u001b[39;49m\u001b[43mcoeffs\u001b[49m\u001b[43m,\u001b[49m\n\u001b[1;32m      9\u001b[0m \u001b[43m    \u001b[49m\u001b[43mpaulis\u001b[49m\u001b[38;5;241;43m=\u001b[39;49m\u001b[43mpaulis\u001b[49m\u001b[43m,\u001b[49m\n\u001b[1;32m     10\u001b[0m \u001b[43m    \u001b[49m\u001b[43mparam_guess\u001b[49m\u001b[38;5;241;43m=\u001b[39;49m\u001b[38;5;28;43mlist\u001b[39;49m\u001b[43m(\u001b[49m\u001b[43mguess\u001b[49m\u001b[43m)\u001b[49m\u001b[43m,\u001b[49m\n\u001b[1;32m     11\u001b[0m \u001b[43m    \u001b[49m\u001b[43mbudget\u001b[49m\u001b[38;5;241;43m=\u001b[39;49m\u001b[43mbudget\u001b[49m\u001b[43m,\u001b[49m\n\u001b[1;32m     12\u001b[0m \u001b[43m    \u001b[49m\u001b[43msave_dir\u001b[49m\u001b[38;5;241;43m=\u001b[39;49m\u001b[43msave_dir\u001b[49m\u001b[43m,\u001b[49m\n\u001b[1;32m     13\u001b[0m \u001b[43m    \u001b[49m\u001b[43mloss_file\u001b[49m\u001b[38;5;241;43m=\u001b[39;49m\u001b[43mloss_file\u001b[49m\u001b[43m,\u001b[49m\n\u001b[1;32m     14\u001b[0m \u001b[43m    \u001b[49m\u001b[43mparams_file\u001b[49m\u001b[38;5;241;43m=\u001b[39;49m\u001b[43mparams_file\u001b[49m\u001b[43m,\u001b[49m\n\u001b[1;32m     15\u001b[0m \u001b[43m    \u001b[49m\u001b[43mvqe_kwargs\u001b[49m\u001b[38;5;241;43m=\u001b[39;49m\u001b[43mvqe_kwargs\u001b[49m\n\u001b[1;32m     16\u001b[0m \u001b[43m)\u001b[49m\n\u001b[1;32m     17\u001b[0m sys\u001b[38;5;241m.\u001b[39mstdout \u001b[38;5;241m=\u001b[39m stdout\n",
      "File \u001b[0;32m~/my-code/CAFQA/example/../vqe_experiment.py:214\u001b[0m, in \u001b[0;36mrun_cafqa\u001b[0;34m(n_qubits, coeffs, paulis, param_guess, budget, save_dir, loss_file, params_file, vqe_kwargs)\u001b[0m\n\u001b[1;32m    211\u001b[0m     json\u001b[38;5;241m.\u001b[39mdump(config, config_file, indent\u001b[38;5;241m=\u001b[39m\u001b[38;5;241m4\u001b[39m)\n\u001b[1;32m    213\u001b[0m stdout \u001b[38;5;241m=\u001b[39m sys\u001b[38;5;241m.\u001b[39mstdout\n\u001b[0;32m--> 214\u001b[0m \u001b[43mhypermapper\u001b[49m\u001b[38;5;241;43m.\u001b[39;49m\u001b[43moptimizer\u001b[49m\u001b[38;5;241;43m.\u001b[39;49m\u001b[43moptimize\u001b[49m\u001b[43m(\u001b[49m\n\u001b[1;32m    215\u001b[0m \u001b[43m    \u001b[49m\u001b[43mhypermapper_config_path\u001b[49m\u001b[43m,\u001b[49m\u001b[43m \u001b[49m\n\u001b[1;32m    216\u001b[0m \u001b[43m    \u001b[49m\u001b[38;5;28;43;01mlambda\u001b[39;49;00m\u001b[43m \u001b[49m\u001b[43mx\u001b[49m\u001b[43m:\u001b[49m\u001b[43m \u001b[49m\u001b[43mvqe_cafqa_stim\u001b[49m\u001b[43m(\u001b[49m\n\u001b[1;32m    217\u001b[0m \u001b[43m        \u001b[49m\u001b[43minputs\u001b[49m\u001b[38;5;241;43m=\u001b[39;49m\u001b[43mx\u001b[49m\u001b[43m,\u001b[49m\n\u001b[1;32m    218\u001b[0m \u001b[43m        \u001b[49m\u001b[43mn_qubits\u001b[49m\u001b[38;5;241;43m=\u001b[39;49m\u001b[43mn_qubits\u001b[49m\u001b[43m,\u001b[49m\n\u001b[1;32m    219\u001b[0m \u001b[43m        \u001b[49m\u001b[43mloss_filename\u001b[49m\u001b[38;5;241;43m=\u001b[39;49m\u001b[43msave_dir\u001b[49m\u001b[43m \u001b[49m\u001b[38;5;241;43m+\u001b[39;49m\u001b[43m \u001b[49m\u001b[38;5;124;43m\"\u001b[39;49m\u001b[38;5;124;43m/\u001b[39;49m\u001b[38;5;124;43m\"\u001b[39;49m\u001b[43m \u001b[49m\u001b[38;5;241;43m+\u001b[39;49m\u001b[43m \u001b[49m\u001b[43mloss_file\u001b[49m\u001b[43m,\u001b[49m\n\u001b[1;32m    220\u001b[0m \u001b[43m        \u001b[49m\u001b[43mparams_filename\u001b[49m\u001b[38;5;241;43m=\u001b[39;49m\u001b[43msave_dir\u001b[49m\u001b[43m \u001b[49m\u001b[38;5;241;43m+\u001b[39;49m\u001b[43m \u001b[49m\u001b[38;5;124;43m\"\u001b[39;49m\u001b[38;5;124;43m/\u001b[39;49m\u001b[38;5;124;43m\"\u001b[39;49m\u001b[43m \u001b[49m\u001b[38;5;241;43m+\u001b[39;49m\u001b[43m \u001b[49m\u001b[43mparams_file\u001b[49m\u001b[43m,\u001b[49m\n\u001b[1;32m    221\u001b[0m \u001b[43m        \u001b[49m\u001b[43mpaulis\u001b[49m\u001b[38;5;241;43m=\u001b[39;49m\u001b[43mpaulis\u001b[49m\u001b[43m,\u001b[49m\u001b[43m \u001b[49m\n\u001b[1;32m    222\u001b[0m \u001b[43m        \u001b[49m\u001b[43mcoeffs\u001b[49m\u001b[38;5;241;43m=\u001b[39;49m\u001b[43mcoeffs\u001b[49m\u001b[43m,\u001b[49m\n\u001b[1;32m    223\u001b[0m \u001b[43m        \u001b[49m\u001b[38;5;241;43m*\u001b[39;49m\u001b[38;5;241;43m*\u001b[39;49m\u001b[43mvqe_kwargs\u001b[49m\n\u001b[1;32m    224\u001b[0m \u001b[43m    \u001b[49m\u001b[43m)\u001b[49m\u001b[43m)\u001b[49m\n\u001b[1;32m    225\u001b[0m sys\u001b[38;5;241m.\u001b[39mstdout \u001b[38;5;241m=\u001b[39m stdout\n\u001b[1;32m    227\u001b[0m energy_cafqa \u001b[38;5;241m=\u001b[39m np\u001b[38;5;241m.\u001b[39minf\n",
      "File \u001b[0;32m/opt/miniconda3/envs/cafqa_env/lib/python3.9/site-packages/hypermapper/optimizer.py:124\u001b[0m, in \u001b[0;36moptimize\u001b[0;34m(parameters_file, black_box_function)\u001b[0m\n\u001b[1;32m    117\u001b[0m     profiling \u001b[38;5;241m=\u001b[39m \u001b[38;5;28;01mNone\u001b[39;00m\n\u001b[1;32m    119\u001b[0m \u001b[38;5;28;01mif\u001b[39;00m (\n\u001b[1;32m    120\u001b[0m     (optimization_method \u001b[38;5;241m==\u001b[39m \u001b[38;5;124m\"\u001b[39m\u001b[38;5;124mrandom_scalarizations\u001b[39m\u001b[38;5;124m\"\u001b[39m)\n\u001b[1;32m    121\u001b[0m     \u001b[38;5;129;01mor\u001b[39;00m (optimization_method \u001b[38;5;241m==\u001b[39m \u001b[38;5;124m\"\u001b[39m\u001b[38;5;124mbayesian_optimization\u001b[39m\u001b[38;5;124m\"\u001b[39m)\n\u001b[1;32m    122\u001b[0m     \u001b[38;5;129;01mor\u001b[39;00m (optimization_method \u001b[38;5;241m==\u001b[39m \u001b[38;5;124m\"\u001b[39m\u001b[38;5;124mprior_guided_optimization\u001b[39m\u001b[38;5;124m\"\u001b[39m)\n\u001b[1;32m    123\u001b[0m ):\n\u001b[0;32m--> 124\u001b[0m     data_array \u001b[38;5;241m=\u001b[39m \u001b[43mbo\u001b[49m\u001b[38;5;241;43m.\u001b[39;49m\u001b[43mmain\u001b[49m\u001b[43m(\u001b[49m\n\u001b[1;32m    125\u001b[0m \u001b[43m        \u001b[49m\u001b[43mconfig\u001b[49m\u001b[43m,\u001b[49m\u001b[43m \u001b[49m\u001b[43mblack_box_function\u001b[49m\u001b[38;5;241;43m=\u001b[39;49m\u001b[43mblack_box_function\u001b[49m\u001b[43m,\u001b[49m\u001b[43m \u001b[49m\u001b[43mprofiling\u001b[49m\u001b[38;5;241;43m=\u001b[39;49m\u001b[43mprofiling\u001b[49m\n\u001b[1;32m    126\u001b[0m \u001b[43m    \u001b[49m\u001b[43m)\u001b[49m\n\u001b[1;32m    127\u001b[0m \u001b[38;5;28;01melif\u001b[39;00m optimization_method \u001b[38;5;241m==\u001b[39m \u001b[38;5;124m\"\u001b[39m\u001b[38;5;124mlocal_search\u001b[39m\u001b[38;5;124m\"\u001b[39m:\n\u001b[1;32m    128\u001b[0m     data_array \u001b[38;5;241m=\u001b[39m local_search\u001b[38;5;241m.\u001b[39mmain(\n\u001b[1;32m    129\u001b[0m         config, black_box_function\u001b[38;5;241m=\u001b[39mblack_box_function, profiling\u001b[38;5;241m=\u001b[39mprofiling\n\u001b[1;32m    130\u001b[0m     )\n",
      "File \u001b[0;32m/opt/miniconda3/envs/cafqa_env/lib/python3.9/site-packages/hypermapper/bo.py:459\u001b[0m, in \u001b[0;36mmain\u001b[0;34m(config, black_box_function, profiling)\u001b[0m\n\u001b[1;32m    457\u001b[0m local_search_t0 \u001b[38;5;241m=\u001b[39m datetime\u001b[38;5;241m.\u001b[39mdatetime\u001b[38;5;241m.\u001b[39mnow()\n\u001b[1;32m    458\u001b[0m \u001b[38;5;28;01mif\u001b[39;00m epsilon \u001b[38;5;241m>\u001b[39m epsilon_greedy_threshold:\n\u001b[0;32m--> 459\u001b[0m     best_configuration \u001b[38;5;241m=\u001b[39m \u001b[43mbo_method\u001b[49m\u001b[43m(\u001b[49m\n\u001b[1;32m    460\u001b[0m \u001b[43m        \u001b[49m\u001b[43mconfig\u001b[49m\u001b[43m,\u001b[49m\n\u001b[1;32m    461\u001b[0m \u001b[43m        \u001b[49m\u001b[43mdata_array\u001b[49m\u001b[43m,\u001b[49m\n\u001b[1;32m    462\u001b[0m \u001b[43m        \u001b[49m\u001b[43mparam_space\u001b[49m\u001b[43m,\u001b[49m\n\u001b[1;32m    463\u001b[0m \u001b[43m        \u001b[49m\u001b[43mfast_addressing_of_data_array\u001b[49m\u001b[43m,\u001b[49m\n\u001b[1;32m    464\u001b[0m \u001b[43m        \u001b[49m\u001b[43mregression_models\u001b[49m\u001b[43m,\u001b[49m\n\u001b[1;32m    465\u001b[0m \u001b[43m        \u001b[49m\u001b[43miteration_number\u001b[49m\u001b[43m,\u001b[49m\n\u001b[1;32m    466\u001b[0m \u001b[43m        \u001b[49m\u001b[43mobjective_weights\u001b[49m\u001b[43m,\u001b[49m\n\u001b[1;32m    467\u001b[0m \u001b[43m        \u001b[49m\u001b[43mobjective_limits\u001b[49m\u001b[43m,\u001b[49m\n\u001b[1;32m    468\u001b[0m \u001b[43m        \u001b[49m\u001b[43mclassification_model\u001b[49m\u001b[43m,\u001b[49m\n\u001b[1;32m    469\u001b[0m \u001b[43m        \u001b[49m\u001b[43mprofiling\u001b[49m\u001b[43m,\u001b[49m\n\u001b[1;32m    470\u001b[0m \u001b[43m        \u001b[49m\u001b[43macquisition_function_optimizer\u001b[49m\u001b[43m,\u001b[49m\n\u001b[1;32m    471\u001b[0m \u001b[43m    \u001b[49m\u001b[43m)\u001b[49m\n\u001b[1;32m    473\u001b[0m \u001b[38;5;28;01melse\u001b[39;00m:\n\u001b[1;32m    474\u001b[0m     sys\u001b[38;5;241m.\u001b[39mstdout\u001b[38;5;241m.\u001b[39mwrite_to_logfile(\n\u001b[1;32m    475\u001b[0m         \u001b[38;5;28mstr\u001b[39m(epsilon)\n\u001b[1;32m    476\u001b[0m         \u001b[38;5;241m+\u001b[39m \u001b[38;5;124m\"\u001b[39m\u001b[38;5;124m < \u001b[39m\u001b[38;5;124m\"\u001b[39m\n\u001b[1;32m    477\u001b[0m         \u001b[38;5;241m+\u001b[39m \u001b[38;5;28mstr\u001b[39m(epsilon_greedy_threshold)\n\u001b[1;32m    478\u001b[0m         \u001b[38;5;241m+\u001b[39m \u001b[38;5;124m\"\u001b[39m\u001b[38;5;124m random sampling a configuration to run\u001b[39m\u001b[38;5;130;01m\\n\u001b[39;00m\u001b[38;5;124m\"\u001b[39m\n\u001b[1;32m    479\u001b[0m     )\n",
      "File \u001b[0;32m/opt/miniconda3/envs/cafqa_env/lib/python3.9/site-packages/hypermapper/random_scalarizations.py:559\u001b[0m, in \u001b[0;36mrandom_scalarizations\u001b[0;34m(config, data_array, param_space, fast_addressing_of_data_array, regression_models, iteration_number, objective_weights, objective_limits, classification_model, profiling, acquisition_function_optimizer)\u001b[0m\n\u001b[1;32m    556\u001b[0m optimization_function_parameters[\u001b[38;5;124m\"\u001b[39m\u001b[38;5;124mnumber_of_cpus\u001b[39m\u001b[38;5;124m\"\u001b[39m] \u001b[38;5;241m=\u001b[39m config[\u001b[38;5;124m\"\u001b[39m\u001b[38;5;124mnumber_of_cpus\u001b[39m\u001b[38;5;124m\"\u001b[39m]\n\u001b[1;32m    558\u001b[0m \u001b[38;5;28;01mif\u001b[39;00m acquisition_function_optimizer \u001b[38;5;241m==\u001b[39m \u001b[38;5;124m\"\u001b[39m\u001b[38;5;124mlocal_search\u001b[39m\u001b[38;5;124m\"\u001b[39m:\n\u001b[0;32m--> 559\u001b[0m     _, best_configuration \u001b[38;5;241m=\u001b[39m \u001b[43mlocal_search\u001b[49m\u001b[43m(\u001b[49m\n\u001b[1;32m    560\u001b[0m \u001b[43m        \u001b[49m\u001b[43mlocal_search_starting_points\u001b[49m\u001b[43m,\u001b[49m\n\u001b[1;32m    561\u001b[0m \u001b[43m        \u001b[49m\u001b[43mlocal_search_random_points\u001b[49m\u001b[43m,\u001b[49m\n\u001b[1;32m    562\u001b[0m \u001b[43m        \u001b[49m\u001b[43mparam_space\u001b[49m\u001b[43m,\u001b[49m\n\u001b[1;32m    563\u001b[0m \u001b[43m        \u001b[49m\u001b[43mfast_addressing_of_data_array\u001b[49m\u001b[43m,\u001b[49m\n\u001b[1;32m    564\u001b[0m \u001b[43m        \u001b[49m\u001b[38;5;28;43;01mFalse\u001b[39;49;00m\u001b[43m,\u001b[49m\u001b[43m  \u001b[49m\u001b[38;5;66;43;03m# we do not want the local search to consider feasibility constraints, only the acquisition functions\u001b[39;49;00m\n\u001b[1;32m    565\u001b[0m \u001b[43m        \u001b[49m\u001b[43mrun_acquisition_function\u001b[49m\u001b[43m,\u001b[49m\n\u001b[1;32m    566\u001b[0m \u001b[43m        \u001b[49m\u001b[43moptimization_function_parameters\u001b[49m\u001b[43m,\u001b[49m\n\u001b[1;32m    567\u001b[0m \u001b[43m        \u001b[49m\u001b[43mscalarization_key\u001b[49m\u001b[43m,\u001b[49m\n\u001b[1;32m    568\u001b[0m \u001b[43m        \u001b[49m\u001b[43mnumber_of_cpus\u001b[49m\u001b[43m,\u001b[49m\n\u001b[1;32m    569\u001b[0m \u001b[43m        \u001b[49m\u001b[43mprevious_points\u001b[49m\u001b[38;5;241;43m=\u001b[39;49m\u001b[43mdata_array\u001b[49m\u001b[43m,\u001b[49m\n\u001b[1;32m    570\u001b[0m \u001b[43m        \u001b[49m\u001b[43mprofiling\u001b[49m\u001b[38;5;241;43m=\u001b[39;49m\u001b[43mprofiling\u001b[49m\u001b[43m,\u001b[49m\n\u001b[1;32m    571\u001b[0m \u001b[43m    \u001b[49m\u001b[43m)\u001b[49m\n\u001b[1;32m    572\u001b[0m \u001b[38;5;28;01melif\u001b[39;00m acquisition_function_optimizer \u001b[38;5;241m==\u001b[39m \u001b[38;5;124m\"\u001b[39m\u001b[38;5;124mcma_es\u001b[39m\u001b[38;5;124m\"\u001b[39m:\n\u001b[1;32m    573\u001b[0m     logfile \u001b[38;5;241m=\u001b[39m deal_with_relative_and_absolute_path(\n\u001b[1;32m    574\u001b[0m         config[\u001b[38;5;124m\"\u001b[39m\u001b[38;5;124mrun_directory\u001b[39m\u001b[38;5;124m\"\u001b[39m], config[\u001b[38;5;124m\"\u001b[39m\u001b[38;5;124mlog_file\u001b[39m\u001b[38;5;124m\"\u001b[39m]\n\u001b[1;32m    575\u001b[0m     )\n",
      "File \u001b[0;32m/opt/miniconda3/envs/cafqa_env/lib/python3.9/site-packages/hypermapper/local_search.py:538\u001b[0m, in \u001b[0;36mlocal_search\u001b[0;34m(local_search_starting_points, local_search_random_points, param_space, fast_addressing_of_data_array, enable_feasible_predictor, optimization_function, optimization_function_parameters, scalarization_key, number_of_cpus, previous_points, profiling, noise)\u001b[0m\n\u001b[1;32m    536\u001b[0m \u001b[38;5;28;01mwith\u001b[39;00m threadpool_limits(limits\u001b[38;5;241m=\u001b[39m\u001b[38;5;241m1\u001b[39m):\n\u001b[1;32m    537\u001b[0m     \u001b[38;5;28;01mfor\u001b[39;00m process \u001b[38;5;129;01min\u001b[39;00m processes:\n\u001b[0;32m--> 538\u001b[0m         \u001b[43mprocess\u001b[49m\u001b[38;5;241;43m.\u001b[39;49m\u001b[43mstart\u001b[49m\u001b[43m(\u001b[49m\u001b[43m)\u001b[49m\n\u001b[1;32m    539\u001b[0m         input_queue\u001b[38;5;241m.\u001b[39mput(\u001b[38;5;28;01mNone\u001b[39;00m)\n\u001b[1;32m    540\u001b[0m     input_queue\u001b[38;5;241m.\u001b[39mjoin()\n",
      "File \u001b[0;32m/opt/miniconda3/envs/cafqa_env/lib/python3.9/multiprocessing/process.py:121\u001b[0m, in \u001b[0;36mBaseProcess.start\u001b[0;34m(self)\u001b[0m\n\u001b[1;32m    118\u001b[0m \u001b[38;5;28;01massert\u001b[39;00m \u001b[38;5;129;01mnot\u001b[39;00m _current_process\u001b[38;5;241m.\u001b[39m_config\u001b[38;5;241m.\u001b[39mget(\u001b[38;5;124m'\u001b[39m\u001b[38;5;124mdaemon\u001b[39m\u001b[38;5;124m'\u001b[39m), \\\n\u001b[1;32m    119\u001b[0m        \u001b[38;5;124m'\u001b[39m\u001b[38;5;124mdaemonic processes are not allowed to have children\u001b[39m\u001b[38;5;124m'\u001b[39m\n\u001b[1;32m    120\u001b[0m _cleanup()\n\u001b[0;32m--> 121\u001b[0m \u001b[38;5;28mself\u001b[39m\u001b[38;5;241m.\u001b[39m_popen \u001b[38;5;241m=\u001b[39m \u001b[38;5;28;43mself\u001b[39;49m\u001b[38;5;241;43m.\u001b[39;49m\u001b[43m_Popen\u001b[49m\u001b[43m(\u001b[49m\u001b[38;5;28;43mself\u001b[39;49m\u001b[43m)\u001b[49m\n\u001b[1;32m    122\u001b[0m \u001b[38;5;28mself\u001b[39m\u001b[38;5;241m.\u001b[39m_sentinel \u001b[38;5;241m=\u001b[39m \u001b[38;5;28mself\u001b[39m\u001b[38;5;241m.\u001b[39m_popen\u001b[38;5;241m.\u001b[39msentinel\n\u001b[1;32m    123\u001b[0m \u001b[38;5;66;03m# Avoid a refcycle if the target function holds an indirect\u001b[39;00m\n\u001b[1;32m    124\u001b[0m \u001b[38;5;66;03m# reference to the process object (see bpo-30775)\u001b[39;00m\n",
      "File \u001b[0;32m/opt/miniconda3/envs/cafqa_env/lib/python3.9/multiprocessing/context.py:224\u001b[0m, in \u001b[0;36mProcess._Popen\u001b[0;34m(process_obj)\u001b[0m\n\u001b[1;32m    222\u001b[0m \u001b[38;5;129m@staticmethod\u001b[39m\n\u001b[1;32m    223\u001b[0m \u001b[38;5;28;01mdef\u001b[39;00m \u001b[38;5;21m_Popen\u001b[39m(process_obj):\n\u001b[0;32m--> 224\u001b[0m     \u001b[38;5;28;01mreturn\u001b[39;00m \u001b[43m_default_context\u001b[49m\u001b[38;5;241;43m.\u001b[39;49m\u001b[43mget_context\u001b[49m\u001b[43m(\u001b[49m\u001b[43m)\u001b[49m\u001b[38;5;241;43m.\u001b[39;49m\u001b[43mProcess\u001b[49m\u001b[38;5;241;43m.\u001b[39;49m\u001b[43m_Popen\u001b[49m\u001b[43m(\u001b[49m\u001b[43mprocess_obj\u001b[49m\u001b[43m)\u001b[49m\n",
      "File \u001b[0;32m/opt/miniconda3/envs/cafqa_env/lib/python3.9/multiprocessing/context.py:284\u001b[0m, in \u001b[0;36mSpawnProcess._Popen\u001b[0;34m(process_obj)\u001b[0m\n\u001b[1;32m    281\u001b[0m \u001b[38;5;129m@staticmethod\u001b[39m\n\u001b[1;32m    282\u001b[0m \u001b[38;5;28;01mdef\u001b[39;00m \u001b[38;5;21m_Popen\u001b[39m(process_obj):\n\u001b[1;32m    283\u001b[0m     \u001b[38;5;28;01mfrom\u001b[39;00m \u001b[38;5;21;01m.\u001b[39;00m\u001b[38;5;21;01mpopen_spawn_posix\u001b[39;00m \u001b[38;5;28;01mimport\u001b[39;00m Popen\n\u001b[0;32m--> 284\u001b[0m     \u001b[38;5;28;01mreturn\u001b[39;00m \u001b[43mPopen\u001b[49m\u001b[43m(\u001b[49m\u001b[43mprocess_obj\u001b[49m\u001b[43m)\u001b[49m\n",
      "File \u001b[0;32m/opt/miniconda3/envs/cafqa_env/lib/python3.9/multiprocessing/popen_spawn_posix.py:32\u001b[0m, in \u001b[0;36mPopen.__init__\u001b[0;34m(self, process_obj)\u001b[0m\n\u001b[1;32m     30\u001b[0m \u001b[38;5;28;01mdef\u001b[39;00m \u001b[38;5;21m__init__\u001b[39m(\u001b[38;5;28mself\u001b[39m, process_obj):\n\u001b[1;32m     31\u001b[0m     \u001b[38;5;28mself\u001b[39m\u001b[38;5;241m.\u001b[39m_fds \u001b[38;5;241m=\u001b[39m []\n\u001b[0;32m---> 32\u001b[0m     \u001b[38;5;28;43msuper\u001b[39;49m\u001b[43m(\u001b[49m\u001b[43m)\u001b[49m\u001b[38;5;241;43m.\u001b[39;49m\u001b[38;5;21;43m__init__\u001b[39;49m\u001b[43m(\u001b[49m\u001b[43mprocess_obj\u001b[49m\u001b[43m)\u001b[49m\n",
      "File \u001b[0;32m/opt/miniconda3/envs/cafqa_env/lib/python3.9/multiprocessing/popen_fork.py:19\u001b[0m, in \u001b[0;36mPopen.__init__\u001b[0;34m(self, process_obj)\u001b[0m\n\u001b[1;32m     17\u001b[0m \u001b[38;5;28mself\u001b[39m\u001b[38;5;241m.\u001b[39mreturncode \u001b[38;5;241m=\u001b[39m \u001b[38;5;28;01mNone\u001b[39;00m\n\u001b[1;32m     18\u001b[0m \u001b[38;5;28mself\u001b[39m\u001b[38;5;241m.\u001b[39mfinalizer \u001b[38;5;241m=\u001b[39m \u001b[38;5;28;01mNone\u001b[39;00m\n\u001b[0;32m---> 19\u001b[0m \u001b[38;5;28;43mself\u001b[39;49m\u001b[38;5;241;43m.\u001b[39;49m\u001b[43m_launch\u001b[49m\u001b[43m(\u001b[49m\u001b[43mprocess_obj\u001b[49m\u001b[43m)\u001b[49m\n",
      "File \u001b[0;32m/opt/miniconda3/envs/cafqa_env/lib/python3.9/multiprocessing/popen_spawn_posix.py:47\u001b[0m, in \u001b[0;36mPopen._launch\u001b[0;34m(self, process_obj)\u001b[0m\n\u001b[1;32m     45\u001b[0m \u001b[38;5;28;01mtry\u001b[39;00m:\n\u001b[1;32m     46\u001b[0m     reduction\u001b[38;5;241m.\u001b[39mdump(prep_data, fp)\n\u001b[0;32m---> 47\u001b[0m     \u001b[43mreduction\u001b[49m\u001b[38;5;241;43m.\u001b[39;49m\u001b[43mdump\u001b[49m\u001b[43m(\u001b[49m\u001b[43mprocess_obj\u001b[49m\u001b[43m,\u001b[49m\u001b[43m \u001b[49m\u001b[43mfp\u001b[49m\u001b[43m)\u001b[49m\n\u001b[1;32m     48\u001b[0m \u001b[38;5;28;01mfinally\u001b[39;00m:\n\u001b[1;32m     49\u001b[0m     set_spawning_popen(\u001b[38;5;28;01mNone\u001b[39;00m)\n",
      "File \u001b[0;32m/opt/miniconda3/envs/cafqa_env/lib/python3.9/multiprocessing/reduction.py:60\u001b[0m, in \u001b[0;36mdump\u001b[0;34m(obj, file, protocol)\u001b[0m\n\u001b[1;32m     58\u001b[0m \u001b[38;5;28;01mdef\u001b[39;00m \u001b[38;5;21mdump\u001b[39m(obj, file, protocol\u001b[38;5;241m=\u001b[39m\u001b[38;5;28;01mNone\u001b[39;00m):\n\u001b[1;32m     59\u001b[0m \u001b[38;5;250m    \u001b[39m\u001b[38;5;124;03m'''Replacement for pickle.dump() using ForkingPickler.'''\u001b[39;00m\n\u001b[0;32m---> 60\u001b[0m     \u001b[43mForkingPickler\u001b[49m\u001b[43m(\u001b[49m\u001b[43mfile\u001b[49m\u001b[43m,\u001b[49m\u001b[43m \u001b[49m\u001b[43mprotocol\u001b[49m\u001b[43m)\u001b[49m\u001b[38;5;241;43m.\u001b[39;49m\u001b[43mdump\u001b[49m\u001b[43m(\u001b[49m\u001b[43mobj\u001b[49m\u001b[43m)\u001b[49m\n",
      "\u001b[0;31mAttributeError\u001b[0m: Can't pickle local object 'Space.__init__.<locals>.<lambda>'"
     ]
    }
   ],
   "source": [
    "# run CAFQA\n",
    "\n",
    "# hypermapper changes the standard output to write to log files, so it needs to be\n",
    "# changed back after CAFQA (otherwise printing breaks)\n",
    "stdout = sys.stdout\n",
    "cafqa_energy, cafqa_params = ve.run_cafqa(\n",
    "    n_qubits=N,\n",
    "    coeffs=coeffs,\n",
    "    paulis=paulis,\n",
    "    param_guess=list(guess),\n",
    "    budget=budget,\n",
    "    save_dir=save_dir,\n",
    "    loss_file=loss_file,\n",
    "    params_file=params_file,\n",
    "    vqe_kwargs=vqe_kwargs\n",
    ")\n",
    "sys.stdout = stdout"
   ]
  },
  {
   "cell_type": "code",
   "execution_count": null,
   "metadata": {},
   "outputs": [],
   "source": []
  }
 ],
 "metadata": {
  "kernelspec": {
   "display_name": "research",
   "language": "python",
   "name": "python3"
  },
  "language_info": {
   "codemirror_mode": {
    "name": "ipython",
    "version": 3
   },
   "file_extension": ".py",
   "mimetype": "text/x-python",
   "name": "python",
   "nbconvert_exporter": "python",
   "pygments_lexer": "ipython3",
   "version": "3.11.9"
  }
 },
 "nbformat": 4,
 "nbformat_minor": 2
}
